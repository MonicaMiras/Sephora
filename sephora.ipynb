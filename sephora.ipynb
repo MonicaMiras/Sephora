{
 "cells": [
  {
   "cell_type": "markdown",
   "id": "f4cda92d-b2d7-4fde-bc2a-392685d0f5c8",
   "metadata": {},
   "source": [
    "# Recomendacion de productos Sephora"
   ]
  },
  {
   "cell_type": "code",
   "execution_count": 608,
   "id": "44427921-1cb0-47f0-9de7-07056adc4125",
   "metadata": {},
   "outputs": [],
   "source": [
    "import pandas as pd \n",
    "import numpy as np\n",
    "import matplotlib.pyplot as plt \n",
    "import seaborn as sns\n",
    "import re\n",
    "import ast"
   ]
  },
  {
   "cell_type": "markdown",
   "id": "3b008d9f-5ab1-4a21-bd5f-79a9bb717cca",
   "metadata": {},
   "source": [
    "## Importar tablas"
   ]
  },
  {
   "cell_type": "code",
   "execution_count": 616,
   "id": "a31af140-ed38-4eb7-9384-73487822c68d",
   "metadata": {},
   "outputs": [],
   "source": [
    "products = pd.read_csv(\"product_info.csv\")"
   ]
  },
  {
   "cell_type": "code",
   "execution_count": 555,
   "id": "79877cc5-6e12-417a-8127-bc489cb08401",
   "metadata": {
    "scrolled": true
   },
   "outputs": [
    {
     "name": "stderr",
     "output_type": "stream",
     "text": [
      "/var/folders/m_/06pskt392pn6qvkq92krm8xm0000gn/T/ipykernel_89546/2251219999.py:1: DtypeWarning:\n",
      "\n",
      "Columns (1) have mixed types. Specify dtype option on import or set low_memory=False.\n",
      "\n",
      "/var/folders/m_/06pskt392pn6qvkq92krm8xm0000gn/T/ipykernel_89546/2251219999.py:4: DtypeWarning:\n",
      "\n",
      "Columns (1) have mixed types. Specify dtype option on import or set low_memory=False.\n",
      "\n",
      "/var/folders/m_/06pskt392pn6qvkq92krm8xm0000gn/T/ipykernel_89546/2251219999.py:5: DtypeWarning:\n",
      "\n",
      "Columns (1) have mixed types. Specify dtype option on import or set low_memory=False.\n",
      "\n"
     ]
    }
   ],
   "source": [
    "\n",
    "reviews1 = pd.read_csv(\"reviews_0-250.csv\")\n",
    "reviews2 = pd.read_csv(\"reviews_250-500.csv\")\n",
    "reviews3 = pd.read_csv(\"reviews_500-750.csv\")\n",
    "reviews4 = pd.read_csv(\"reviews_750-1250.csv\")\n",
    "reviews5 = pd.read_csv(\"reviews_1250-end.csv\")"
   ]
  },
  {
   "cell_type": "markdown",
   "id": "f9c512fb-6350-45c1-8fe1-b1b36f3ef198",
   "metadata": {},
   "source": [
    "## Products"
   ]
  },
  {
   "cell_type": "code",
   "execution_count": 557,
   "id": "fe9e541d-20c6-444f-b2d0-736caf7b8fd1",
   "metadata": {},
   "outputs": [
    {
     "data": {
      "text/html": [
       "<div>\n",
       "<style scoped>\n",
       "    .dataframe tbody tr th:only-of-type {\n",
       "        vertical-align: middle;\n",
       "    }\n",
       "\n",
       "    .dataframe tbody tr th {\n",
       "        vertical-align: top;\n",
       "    }\n",
       "\n",
       "    .dataframe thead th {\n",
       "        text-align: right;\n",
       "    }\n",
       "</style>\n",
       "<table border=\"1\" class=\"dataframe\">\n",
       "  <thead>\n",
       "    <tr style=\"text-align: right;\">\n",
       "      <th></th>\n",
       "      <th>product_id</th>\n",
       "      <th>product_name</th>\n",
       "      <th>brand_id</th>\n",
       "      <th>brand_name</th>\n",
       "      <th>loves_count</th>\n",
       "      <th>rating</th>\n",
       "      <th>reviews</th>\n",
       "      <th>size</th>\n",
       "      <th>variation_type</th>\n",
       "      <th>variation_value</th>\n",
       "      <th>...</th>\n",
       "      <th>online_only</th>\n",
       "      <th>out_of_stock</th>\n",
       "      <th>sephora_exclusive</th>\n",
       "      <th>highlights</th>\n",
       "      <th>primary_category</th>\n",
       "      <th>secondary_category</th>\n",
       "      <th>tertiary_category</th>\n",
       "      <th>child_count</th>\n",
       "      <th>child_max_price</th>\n",
       "      <th>child_min_price</th>\n",
       "    </tr>\n",
       "  </thead>\n",
       "  <tbody>\n",
       "    <tr>\n",
       "      <th>0</th>\n",
       "      <td>P473671</td>\n",
       "      <td>Fragrance Discovery Set</td>\n",
       "      <td>6342</td>\n",
       "      <td>19-69</td>\n",
       "      <td>6320</td>\n",
       "      <td>3.6364</td>\n",
       "      <td>11.0</td>\n",
       "      <td>NaN</td>\n",
       "      <td>NaN</td>\n",
       "      <td>NaN</td>\n",
       "      <td>...</td>\n",
       "      <td>1</td>\n",
       "      <td>0</td>\n",
       "      <td>0</td>\n",
       "      <td>['Unisex/ Genderless Scent', 'Warm &amp;Spicy Scen...</td>\n",
       "      <td>Fragrance</td>\n",
       "      <td>Value &amp; Gift Sets</td>\n",
       "      <td>Perfume Gift Sets</td>\n",
       "      <td>0</td>\n",
       "      <td>NaN</td>\n",
       "      <td>NaN</td>\n",
       "    </tr>\n",
       "    <tr>\n",
       "      <th>1</th>\n",
       "      <td>P473668</td>\n",
       "      <td>La Habana Eau de Parfum</td>\n",
       "      <td>6342</td>\n",
       "      <td>19-69</td>\n",
       "      <td>3827</td>\n",
       "      <td>4.1538</td>\n",
       "      <td>13.0</td>\n",
       "      <td>3.4 oz/ 100 mL</td>\n",
       "      <td>Size + Concentration + Formulation</td>\n",
       "      <td>3.4 oz/ 100 mL</td>\n",
       "      <td>...</td>\n",
       "      <td>1</td>\n",
       "      <td>0</td>\n",
       "      <td>0</td>\n",
       "      <td>['Unisex/ Genderless Scent', 'Layerable Scent'...</td>\n",
       "      <td>Fragrance</td>\n",
       "      <td>Women</td>\n",
       "      <td>Perfume</td>\n",
       "      <td>2</td>\n",
       "      <td>85.0</td>\n",
       "      <td>30.0</td>\n",
       "    </tr>\n",
       "  </tbody>\n",
       "</table>\n",
       "<p>2 rows × 27 columns</p>\n",
       "</div>"
      ],
      "text/plain": [
       "  product_id             product_name  brand_id brand_name  loves_count  \\\n",
       "0    P473671  Fragrance Discovery Set      6342      19-69         6320   \n",
       "1    P473668  La Habana Eau de Parfum      6342      19-69         3827   \n",
       "\n",
       "   rating  reviews            size                      variation_type  \\\n",
       "0  3.6364     11.0             NaN                                 NaN   \n",
       "1  4.1538     13.0  3.4 oz/ 100 mL  Size + Concentration + Formulation   \n",
       "\n",
       "  variation_value  ... online_only out_of_stock  sephora_exclusive  \\\n",
       "0             NaN  ...           1            0                  0   \n",
       "1  3.4 oz/ 100 mL  ...           1            0                  0   \n",
       "\n",
       "                                          highlights  primary_category  \\\n",
       "0  ['Unisex/ Genderless Scent', 'Warm &Spicy Scen...         Fragrance   \n",
       "1  ['Unisex/ Genderless Scent', 'Layerable Scent'...         Fragrance   \n",
       "\n",
       "   secondary_category  tertiary_category  child_count  child_max_price  \\\n",
       "0   Value & Gift Sets  Perfume Gift Sets            0              NaN   \n",
       "1               Women            Perfume            2             85.0   \n",
       "\n",
       "   child_min_price  \n",
       "0              NaN  \n",
       "1             30.0  \n",
       "\n",
       "[2 rows x 27 columns]"
      ]
     },
     "execution_count": 557,
     "metadata": {},
     "output_type": "execute_result"
    }
   ],
   "source": [
    "products.head(2)"
   ]
  },
  {
   "cell_type": "code",
   "execution_count": 558,
   "id": "982ca0b2-26b8-44c2-86e4-7d4e9343c86e",
   "metadata": {},
   "outputs": [
    {
     "data": {
      "text/plain": [
       "(8494, 27)"
      ]
     },
     "execution_count": 558,
     "metadata": {},
     "output_type": "execute_result"
    }
   ],
   "source": [
    "products.shape"
   ]
  },
  {
   "cell_type": "code",
   "execution_count": 559,
   "id": "f5c98611-f318-4586-9654-84b6c9cbbecc",
   "metadata": {},
   "outputs": [
    {
     "data": {
      "text/plain": [
       "Index(['product_id', 'product_name', 'brand_id', 'brand_name', 'loves_count',\n",
       "       'rating', 'reviews', 'size', 'variation_type', 'variation_value',\n",
       "       'variation_desc', 'ingredients', 'price_usd', 'value_price_usd',\n",
       "       'sale_price_usd', 'limited_edition', 'new', 'online_only',\n",
       "       'out_of_stock', 'sephora_exclusive', 'highlights', 'primary_category',\n",
       "       'secondary_category', 'tertiary_category', 'child_count',\n",
       "       'child_max_price', 'child_min_price'],\n",
       "      dtype='object')"
      ]
     },
     "execution_count": 559,
     "metadata": {},
     "output_type": "execute_result"
    }
   ],
   "source": [
    "products.columns"
   ]
  },
  {
   "cell_type": "markdown",
   "id": "114a80ab-8565-4f8a-80ba-7e860582b714",
   "metadata": {},
   "source": [
    "## Eliminar columnas de products"
   ]
  },
  {
   "cell_type": "code",
   "execution_count": 588,
   "id": "1ce8388e-7ca2-4713-9069-024fa542eaf3",
   "metadata": {
    "collapsed": true,
    "jupyter": {
     "outputs_hidden": true
    }
   },
   "outputs": [
    {
     "ename": "KeyError",
     "evalue": "\"['variation_desc', 'value_price_usd', 'sale_price_usd', 'child_max_price', 'child_min_price'] not found in axis\"",
     "output_type": "error",
     "traceback": [
      "\u001b[0;31m---------------------------------------------------------------------------\u001b[0m",
      "\u001b[0;31mKeyError\u001b[0m                                  Traceback (most recent call last)",
      "Cell \u001b[0;32mIn[588], line 1\u001b[0m\n\u001b[0;32m----> 1\u001b[0m products\u001b[38;5;241m.\u001b[39mdrop(\n\u001b[1;32m      2\u001b[0m     [\u001b[38;5;124m\"\u001b[39m\u001b[38;5;124mvariation_desc\u001b[39m\u001b[38;5;124m\"\u001b[39m, \u001b[38;5;124m\"\u001b[39m\u001b[38;5;124mvalue_price_usd\u001b[39m\u001b[38;5;124m\"\u001b[39m, \u001b[38;5;124m\"\u001b[39m\u001b[38;5;124msale_price_usd\u001b[39m\u001b[38;5;124m\"\u001b[39m, \u001b[38;5;124m\"\u001b[39m\u001b[38;5;124mchild_max_price\u001b[39m\u001b[38;5;124m\"\u001b[39m, \u001b[38;5;124m\"\u001b[39m\u001b[38;5;124mchild_min_price\u001b[39m\u001b[38;5;124m\"\u001b[39m],\n\u001b[1;32m      3\u001b[0m     axis \u001b[38;5;241m=\u001b[39m \u001b[38;5;241m1\u001b[39m,\n\u001b[1;32m      4\u001b[0m     inplace \u001b[38;5;241m=\u001b[39m \u001b[38;5;28;01mTrue\u001b[39;00m\n\u001b[1;32m      5\u001b[0m )\n",
      "File \u001b[0;32m~/anaconda3/lib/python3.11/site-packages/pandas/core/frame.py:5344\u001b[0m, in \u001b[0;36mDataFrame.drop\u001b[0;34m(self, labels, axis, index, columns, level, inplace, errors)\u001b[0m\n\u001b[1;32m   5196\u001b[0m \u001b[38;5;28;01mdef\u001b[39;00m \u001b[38;5;21mdrop\u001b[39m(\n\u001b[1;32m   5197\u001b[0m     \u001b[38;5;28mself\u001b[39m,\n\u001b[1;32m   5198\u001b[0m     labels: IndexLabel \u001b[38;5;241m|\u001b[39m \u001b[38;5;28;01mNone\u001b[39;00m \u001b[38;5;241m=\u001b[39m \u001b[38;5;28;01mNone\u001b[39;00m,\n\u001b[0;32m   (...)\u001b[0m\n\u001b[1;32m   5205\u001b[0m     errors: IgnoreRaise \u001b[38;5;241m=\u001b[39m \u001b[38;5;124m\"\u001b[39m\u001b[38;5;124mraise\u001b[39m\u001b[38;5;124m\"\u001b[39m,\n\u001b[1;32m   5206\u001b[0m ) \u001b[38;5;241m-\u001b[39m\u001b[38;5;241m>\u001b[39m DataFrame \u001b[38;5;241m|\u001b[39m \u001b[38;5;28;01mNone\u001b[39;00m:\n\u001b[1;32m   5207\u001b[0m \u001b[38;5;250m    \u001b[39m\u001b[38;5;124;03m\"\"\"\u001b[39;00m\n\u001b[1;32m   5208\u001b[0m \u001b[38;5;124;03m    Drop specified labels from rows or columns.\u001b[39;00m\n\u001b[1;32m   5209\u001b[0m \n\u001b[0;32m   (...)\u001b[0m\n\u001b[1;32m   5342\u001b[0m \u001b[38;5;124;03m            weight  1.0     0.8\u001b[39;00m\n\u001b[1;32m   5343\u001b[0m \u001b[38;5;124;03m    \"\"\"\u001b[39;00m\n\u001b[0;32m-> 5344\u001b[0m     \u001b[38;5;28;01mreturn\u001b[39;00m \u001b[38;5;28msuper\u001b[39m()\u001b[38;5;241m.\u001b[39mdrop(\n\u001b[1;32m   5345\u001b[0m         labels\u001b[38;5;241m=\u001b[39mlabels,\n\u001b[1;32m   5346\u001b[0m         axis\u001b[38;5;241m=\u001b[39maxis,\n\u001b[1;32m   5347\u001b[0m         index\u001b[38;5;241m=\u001b[39mindex,\n\u001b[1;32m   5348\u001b[0m         columns\u001b[38;5;241m=\u001b[39mcolumns,\n\u001b[1;32m   5349\u001b[0m         level\u001b[38;5;241m=\u001b[39mlevel,\n\u001b[1;32m   5350\u001b[0m         inplace\u001b[38;5;241m=\u001b[39minplace,\n\u001b[1;32m   5351\u001b[0m         errors\u001b[38;5;241m=\u001b[39merrors,\n\u001b[1;32m   5352\u001b[0m     )\n",
      "File \u001b[0;32m~/anaconda3/lib/python3.11/site-packages/pandas/core/generic.py:4711\u001b[0m, in \u001b[0;36mNDFrame.drop\u001b[0;34m(self, labels, axis, index, columns, level, inplace, errors)\u001b[0m\n\u001b[1;32m   4709\u001b[0m \u001b[38;5;28;01mfor\u001b[39;00m axis, labels \u001b[38;5;129;01min\u001b[39;00m axes\u001b[38;5;241m.\u001b[39mitems():\n\u001b[1;32m   4710\u001b[0m     \u001b[38;5;28;01mif\u001b[39;00m labels \u001b[38;5;129;01mis\u001b[39;00m \u001b[38;5;129;01mnot\u001b[39;00m \u001b[38;5;28;01mNone\u001b[39;00m:\n\u001b[0;32m-> 4711\u001b[0m         obj \u001b[38;5;241m=\u001b[39m obj\u001b[38;5;241m.\u001b[39m_drop_axis(labels, axis, level\u001b[38;5;241m=\u001b[39mlevel, errors\u001b[38;5;241m=\u001b[39merrors)\n\u001b[1;32m   4713\u001b[0m \u001b[38;5;28;01mif\u001b[39;00m inplace:\n\u001b[1;32m   4714\u001b[0m     \u001b[38;5;28mself\u001b[39m\u001b[38;5;241m.\u001b[39m_update_inplace(obj)\n",
      "File \u001b[0;32m~/anaconda3/lib/python3.11/site-packages/pandas/core/generic.py:4753\u001b[0m, in \u001b[0;36mNDFrame._drop_axis\u001b[0;34m(self, labels, axis, level, errors, only_slice)\u001b[0m\n\u001b[1;32m   4751\u001b[0m         new_axis \u001b[38;5;241m=\u001b[39m axis\u001b[38;5;241m.\u001b[39mdrop(labels, level\u001b[38;5;241m=\u001b[39mlevel, errors\u001b[38;5;241m=\u001b[39merrors)\n\u001b[1;32m   4752\u001b[0m     \u001b[38;5;28;01melse\u001b[39;00m:\n\u001b[0;32m-> 4753\u001b[0m         new_axis \u001b[38;5;241m=\u001b[39m axis\u001b[38;5;241m.\u001b[39mdrop(labels, errors\u001b[38;5;241m=\u001b[39merrors)\n\u001b[1;32m   4754\u001b[0m     indexer \u001b[38;5;241m=\u001b[39m axis\u001b[38;5;241m.\u001b[39mget_indexer(new_axis)\n\u001b[1;32m   4756\u001b[0m \u001b[38;5;66;03m# Case for non-unique axis\u001b[39;00m\n\u001b[1;32m   4757\u001b[0m \u001b[38;5;28;01melse\u001b[39;00m:\n",
      "File \u001b[0;32m~/anaconda3/lib/python3.11/site-packages/pandas/core/indexes/base.py:7000\u001b[0m, in \u001b[0;36mIndex.drop\u001b[0;34m(self, labels, errors)\u001b[0m\n\u001b[1;32m   6998\u001b[0m \u001b[38;5;28;01mif\u001b[39;00m mask\u001b[38;5;241m.\u001b[39many():\n\u001b[1;32m   6999\u001b[0m     \u001b[38;5;28;01mif\u001b[39;00m errors \u001b[38;5;241m!=\u001b[39m \u001b[38;5;124m\"\u001b[39m\u001b[38;5;124mignore\u001b[39m\u001b[38;5;124m\"\u001b[39m:\n\u001b[0;32m-> 7000\u001b[0m         \u001b[38;5;28;01mraise\u001b[39;00m \u001b[38;5;167;01mKeyError\u001b[39;00m(\u001b[38;5;124mf\u001b[39m\u001b[38;5;124m\"\u001b[39m\u001b[38;5;132;01m{\u001b[39;00mlabels[mask]\u001b[38;5;241m.\u001b[39mtolist()\u001b[38;5;132;01m}\u001b[39;00m\u001b[38;5;124m not found in axis\u001b[39m\u001b[38;5;124m\"\u001b[39m)\n\u001b[1;32m   7001\u001b[0m     indexer \u001b[38;5;241m=\u001b[39m indexer[\u001b[38;5;241m~\u001b[39mmask]\n\u001b[1;32m   7002\u001b[0m \u001b[38;5;28;01mreturn\u001b[39;00m \u001b[38;5;28mself\u001b[39m\u001b[38;5;241m.\u001b[39mdelete(indexer)\n",
      "\u001b[0;31mKeyError\u001b[0m: \"['variation_desc', 'value_price_usd', 'sale_price_usd', 'child_max_price', 'child_min_price'] not found in axis\""
     ]
    }
   ],
   "source": [
    "products.drop(\n",
    "    [\"variation_desc\", \"value_price_usd\", \"sale_price_usd\", \"child_max_price\", \"child_min_price\"],\n",
    "    axis = 1,\n",
    "    inplace = True\n",
    ")"
   ]
  },
  {
   "cell_type": "code",
   "execution_count": 590,
   "id": "ea388c58-6efc-46c4-b91c-0c62d8869b60",
   "metadata": {},
   "outputs": [
    {
     "data": {
      "text/plain": [
       "(8494, 22)"
      ]
     },
     "execution_count": 590,
     "metadata": {},
     "output_type": "execute_result"
    }
   ],
   "source": [
    "products.shape"
   ]
  },
  {
   "cell_type": "markdown",
   "id": "a7f09d68-16f3-4fd9-8597-d624d3352fb1",
   "metadata": {},
   "source": [
    "### Hay nulos y duplicados en product_id, (product_name,skin_type, 'eye_color', 'hair_color', 'skin_tone' )"
   ]
  },
  {
   "cell_type": "code",
   "execution_count": 624,
   "id": "d6651e4c-80df-4f06-ac6b-5479f343673b",
   "metadata": {},
   "outputs": [
    {
     "data": {
      "text/plain": [
       "product_id             0.00\n",
       "product_name           0.00\n",
       "brand_id               0.00\n",
       "brand_name             0.00\n",
       "loves_count            0.00\n",
       "rating                 3.27\n",
       "reviews                3.27\n",
       "size                  19.20\n",
       "variation_type        17.00\n",
       "variation_value       18.81\n",
       "variation_desc        85.28\n",
       "ingredients           11.13\n",
       "price_usd              0.00\n",
       "value_price_usd       94.69\n",
       "sale_price_usd        96.82\n",
       "limited_edition        0.00\n",
       "new                    0.00\n",
       "online_only            0.00\n",
       "out_of_stock           0.00\n",
       "sephora_exclusive      0.00\n",
       "highlights             0.00\n",
       "primary_category       0.00\n",
       "secondary_category     0.09\n",
       "tertiary_category     11.66\n",
       "child_count            0.00\n",
       "child_max_price       67.58\n",
       "child_min_price       67.58\n",
       "highlights 1          25.98\n",
       "highlights 2          27.49\n",
       "highlights 3          34.58\n",
       "highlights 4          41.62\n",
       "highlights 5          50.08\n",
       "highlights 6          64.98\n",
       "highlights 7          99.76\n",
       "highlights 8          99.93\n",
       "highlights 9          99.99\n",
       "dtype: float64"
      ]
     },
     "execution_count": 624,
     "metadata": {},
     "output_type": "execute_result"
    }
   ],
   "source": [
    "(products.isnull().sum()/ len(products) *100).round(2)"
   ]
  },
  {
   "cell_type": "code",
   "execution_count": 569,
   "id": "1b9caf07-de12-43af-a2d3-4e6067ea09e5",
   "metadata": {},
   "outputs": [
    {
     "data": {
      "text/plain": [
       "0"
      ]
     },
     "execution_count": 569,
     "metadata": {},
     "output_type": "execute_result"
    }
   ],
   "source": [
    "products.product_id.isnull().sum() #no tiene nulos "
   ]
  },
  {
   "cell_type": "code",
   "execution_count": 571,
   "id": "6a8d16f0-875c-44d8-8f16-bf3e451b302b",
   "metadata": {},
   "outputs": [
    {
     "data": {
      "text/plain": [
       "0"
      ]
     },
     "execution_count": 571,
     "metadata": {},
     "output_type": "execute_result"
    }
   ],
   "source": [
    "products.product_id.duplicated().sum()"
   ]
  },
  {
   "cell_type": "code",
   "execution_count": 592,
   "id": "158c24aa-b005-4b29-b697-708d3ff05586",
   "metadata": {},
   "outputs": [
    {
     "data": {
      "text/html": [
       "<div>\n",
       "<style scoped>\n",
       "    .dataframe tbody tr th:only-of-type {\n",
       "        vertical-align: middle;\n",
       "    }\n",
       "\n",
       "    .dataframe tbody tr th {\n",
       "        vertical-align: top;\n",
       "    }\n",
       "\n",
       "    .dataframe thead th {\n",
       "        text-align: right;\n",
       "    }\n",
       "</style>\n",
       "<table border=\"1\" class=\"dataframe\">\n",
       "  <thead>\n",
       "    <tr style=\"text-align: right;\">\n",
       "      <th></th>\n",
       "      <th>product_id</th>\n",
       "      <th>product_name</th>\n",
       "      <th>brand_id</th>\n",
       "      <th>brand_name</th>\n",
       "      <th>loves_count</th>\n",
       "      <th>rating</th>\n",
       "      <th>reviews</th>\n",
       "      <th>size</th>\n",
       "      <th>variation_type</th>\n",
       "      <th>variation_value</th>\n",
       "      <th>...</th>\n",
       "      <th>limited_edition</th>\n",
       "      <th>new</th>\n",
       "      <th>online_only</th>\n",
       "      <th>out_of_stock</th>\n",
       "      <th>sephora_exclusive</th>\n",
       "      <th>highlights</th>\n",
       "      <th>primary_category</th>\n",
       "      <th>secondary_category</th>\n",
       "      <th>tertiary_category</th>\n",
       "      <th>child_count</th>\n",
       "    </tr>\n",
       "  </thead>\n",
       "  <tbody>\n",
       "    <tr>\n",
       "      <th>0</th>\n",
       "      <td>P473671</td>\n",
       "      <td>Fragrance Discovery Set</td>\n",
       "      <td>6342</td>\n",
       "      <td>19-69</td>\n",
       "      <td>6320</td>\n",
       "      <td>3.6364</td>\n",
       "      <td>11.0</td>\n",
       "      <td>Pack</td>\n",
       "      <td>False</td>\n",
       "      <td>NaN</td>\n",
       "      <td>...</td>\n",
       "      <td>0</td>\n",
       "      <td>0</td>\n",
       "      <td>1</td>\n",
       "      <td>0</td>\n",
       "      <td>0</td>\n",
       "      <td>['Unisex/ Genderless Scent', 'Warm &amp;Spicy Scen...</td>\n",
       "      <td>Fragrance</td>\n",
       "      <td>Value &amp; Gift Sets</td>\n",
       "      <td>Perfume Gift Sets</td>\n",
       "      <td>0</td>\n",
       "    </tr>\n",
       "    <tr>\n",
       "      <th>1</th>\n",
       "      <td>P473668</td>\n",
       "      <td>La Habana Eau de Parfum</td>\n",
       "      <td>6342</td>\n",
       "      <td>19-69</td>\n",
       "      <td>3827</td>\n",
       "      <td>4.1538</td>\n",
       "      <td>13.0</td>\n",
       "      <td>100mL</td>\n",
       "      <td>True</td>\n",
       "      <td>3.4 oz/ 100 mL</td>\n",
       "      <td>...</td>\n",
       "      <td>0</td>\n",
       "      <td>0</td>\n",
       "      <td>1</td>\n",
       "      <td>0</td>\n",
       "      <td>0</td>\n",
       "      <td>['Unisex/ Genderless Scent', 'Layerable Scent'...</td>\n",
       "      <td>Fragrance</td>\n",
       "      <td>Women</td>\n",
       "      <td>Perfume</td>\n",
       "      <td>2</td>\n",
       "    </tr>\n",
       "    <tr>\n",
       "      <th>2</th>\n",
       "      <td>P473662</td>\n",
       "      <td>Rainbow Bar Eau de Parfum</td>\n",
       "      <td>6342</td>\n",
       "      <td>19-69</td>\n",
       "      <td>3253</td>\n",
       "      <td>4.2500</td>\n",
       "      <td>16.0</td>\n",
       "      <td>100mL</td>\n",
       "      <td>True</td>\n",
       "      <td>3.4 oz/ 100 mL</td>\n",
       "      <td>...</td>\n",
       "      <td>0</td>\n",
       "      <td>0</td>\n",
       "      <td>1</td>\n",
       "      <td>0</td>\n",
       "      <td>0</td>\n",
       "      <td>['Unisex/ Genderless Scent', 'Layerable Scent'...</td>\n",
       "      <td>Fragrance</td>\n",
       "      <td>Women</td>\n",
       "      <td>Perfume</td>\n",
       "      <td>2</td>\n",
       "    </tr>\n",
       "    <tr>\n",
       "      <th>3</th>\n",
       "      <td>P473660</td>\n",
       "      <td>Kasbah Eau de Parfum</td>\n",
       "      <td>6342</td>\n",
       "      <td>19-69</td>\n",
       "      <td>3018</td>\n",
       "      <td>4.4762</td>\n",
       "      <td>21.0</td>\n",
       "      <td>100mL</td>\n",
       "      <td>True</td>\n",
       "      <td>3.4 oz/ 100 mL</td>\n",
       "      <td>...</td>\n",
       "      <td>0</td>\n",
       "      <td>0</td>\n",
       "      <td>1</td>\n",
       "      <td>0</td>\n",
       "      <td>0</td>\n",
       "      <td>['Unisex/ Genderless Scent', 'Layerable Scent'...</td>\n",
       "      <td>Fragrance</td>\n",
       "      <td>Women</td>\n",
       "      <td>Perfume</td>\n",
       "      <td>2</td>\n",
       "    </tr>\n",
       "    <tr>\n",
       "      <th>4</th>\n",
       "      <td>P473658</td>\n",
       "      <td>Purple Haze Eau de Parfum</td>\n",
       "      <td>6342</td>\n",
       "      <td>19-69</td>\n",
       "      <td>2691</td>\n",
       "      <td>3.2308</td>\n",
       "      <td>13.0</td>\n",
       "      <td>100mL</td>\n",
       "      <td>True</td>\n",
       "      <td>3.4 oz/ 100 mL</td>\n",
       "      <td>...</td>\n",
       "      <td>0</td>\n",
       "      <td>0</td>\n",
       "      <td>1</td>\n",
       "      <td>0</td>\n",
       "      <td>0</td>\n",
       "      <td>['Unisex/ Genderless Scent', 'Layerable Scent'...</td>\n",
       "      <td>Fragrance</td>\n",
       "      <td>Women</td>\n",
       "      <td>Perfume</td>\n",
       "      <td>2</td>\n",
       "    </tr>\n",
       "  </tbody>\n",
       "</table>\n",
       "<p>5 rows × 22 columns</p>\n",
       "</div>"
      ],
      "text/plain": [
       "  product_id               product_name  brand_id brand_name  loves_count  \\\n",
       "0    P473671    Fragrance Discovery Set      6342      19-69         6320   \n",
       "1    P473668    La Habana Eau de Parfum      6342      19-69         3827   \n",
       "2    P473662  Rainbow Bar Eau de Parfum      6342      19-69         3253   \n",
       "3    P473660       Kasbah Eau de Parfum      6342      19-69         3018   \n",
       "4    P473658  Purple Haze Eau de Parfum      6342      19-69         2691   \n",
       "\n",
       "   rating  reviews   size  variation_type variation_value  ...  \\\n",
       "0  3.6364     11.0   Pack           False             NaN  ...   \n",
       "1  4.1538     13.0  100mL            True  3.4 oz/ 100 mL  ...   \n",
       "2  4.2500     16.0  100mL            True  3.4 oz/ 100 mL  ...   \n",
       "3  4.4762     21.0  100mL            True  3.4 oz/ 100 mL  ...   \n",
       "4  3.2308     13.0  100mL            True  3.4 oz/ 100 mL  ...   \n",
       "\n",
       "  limited_edition  new  online_only  out_of_stock  sephora_exclusive  \\\n",
       "0               0    0            1             0                  0   \n",
       "1               0    0            1             0                  0   \n",
       "2               0    0            1             0                  0   \n",
       "3               0    0            1             0                  0   \n",
       "4               0    0            1             0                  0   \n",
       "\n",
       "                                          highlights  primary_category  \\\n",
       "0  ['Unisex/ Genderless Scent', 'Warm &Spicy Scen...         Fragrance   \n",
       "1  ['Unisex/ Genderless Scent', 'Layerable Scent'...         Fragrance   \n",
       "2  ['Unisex/ Genderless Scent', 'Layerable Scent'...         Fragrance   \n",
       "3  ['Unisex/ Genderless Scent', 'Layerable Scent'...         Fragrance   \n",
       "4  ['Unisex/ Genderless Scent', 'Layerable Scent'...         Fragrance   \n",
       "\n",
       "  secondary_category  tertiary_category child_count  \n",
       "0  Value & Gift Sets  Perfume Gift Sets           0  \n",
       "1              Women            Perfume           2  \n",
       "2              Women            Perfume           2  \n",
       "3              Women            Perfume           2  \n",
       "4              Women            Perfume           2  \n",
       "\n",
       "[5 rows x 22 columns]"
      ]
     },
     "execution_count": 592,
     "metadata": {},
     "output_type": "execute_result"
    }
   ],
   "source": [
    "products.head()"
   ]
  },
  {
   "cell_type": "code",
   "execution_count": 605,
   "id": "64725d39-63cc-4934-aa57-d7ca2eb98d43",
   "metadata": {},
   "outputs": [
    {
     "data": {
      "text/plain": [
       "array([\"['Unisex/ Genderless Scent', 'Warm &Spicy Scent', 'Woody & Earthy Scent', 'Fresh Scent']\",\n",
       "       \"['Unisex/ Genderless Scent', 'Layerable Scent', 'Warm &Spicy Scent']\",\n",
       "       \"['Unisex/ Genderless Scent', 'Layerable Scent', 'Woody & Earthy Scent']\",\n",
       "       ...,\n",
       "       \"['Best for Oily, Combo, Normal Skin', 'Without Parabens', 'Without Mineral Oil', 'Matte Finish', 'Salicylic Acid']\",\n",
       "       \"['Natural Finish', 'Without Mineral Oil', 'Without Parabens']\",\n",
       "       \"['Hyaluronic Acid', 'High Shine Finish', 'Plumping', 'Hydrating', 'Medium Coverage']\"],\n",
       "      dtype=object)"
      ]
     },
     "execution_count": 605,
     "metadata": {},
     "output_type": "execute_result"
    }
   ],
   "source": [
    "products.highlights.unique()"
   ]
  },
  {
   "cell_type": "code",
   "execution_count": null,
   "id": "e24b16b8-6a9f-4e8e-a079-eadea895e547",
   "metadata": {},
   "outputs": [],
   "source": []
  },
  {
   "cell_type": "markdown",
   "id": "85ade9de-ff00-4f93-b5db-4dc497218ad7",
   "metadata": {},
   "source": [
    "### Arreglo Columna Size"
   ]
  },
  {
   "cell_type": "code",
   "execution_count": 576,
   "id": "e093f4ae-26ae-4601-b73e-02261988477f",
   "metadata": {},
   "outputs": [],
   "source": [
    "# Función para procesar cada valor\n",
    "def procesar_valor(valor):\n",
    "    # Asegurarse de que el valor sea una cadena de texto\n",
    "    valor = str(valor)\n",
    "    \n",
    "    # Buscar si contiene \"oz/ mL\"\n",
    "    match_ml = re.search(r'(\\d+(\\.\\d+)?)\\s*oz\\s*/\\s*(\\d+\\s*mL)', valor)\n",
    "    if match_ml:\n",
    "        return match_ml.group(3).replace(' ', '')\n",
    "    \n",
    "    # Buscar si contiene \"oz/ g\"\n",
    "    match_g = re.search(r'(\\d+(\\.\\d+)?)\\s*oz\\s*/\\s*(\\d+\\s*g)', valor)\n",
    "    if match_g:\n",
    "        return match_g.group(3).replace(' ', '')\n",
    "    \n",
    "    # Si solo contiene \"oz\"\n",
    "    match_oz = re.search(r'(\\d+(\\.\\d+)?)\\s*oz', valor)\n",
    "    if match_oz:\n",
    "        oz_val = float(match_oz.group(1))\n",
    "        # Convertir oz a mL (1 oz = 29.5735 mL)\n",
    "        ml_val = oz_val * 29.5735\n",
    "        return f\"{ml_val:.1f} mL\"\n",
    "    \n",
    "    # Si no coincide con ninguno, devolver el valor original\n",
    "    return valor\n",
    "\n",
    "# Aplicar la función a cada valor de la columna\n",
    "products['size'] = products['size'].apply(procesar_valor)"
   ]
  },
  {
   "cell_type": "code",
   "execution_count": 578,
   "id": "97c8cb0b-dba0-40fc-a8c6-4a71ea0feb43",
   "metadata": {},
   "outputs": [],
   "source": [
    "filter_gift = products[\"secondary_category\"]=='Value & Gift Sets'\n",
    "products.loc[filter_gift, \"size\"] = \"Pack\""
   ]
  },
  {
   "cell_type": "code",
   "execution_count": 580,
   "id": "b875b4fc-1f41-48d4-8018-a8719c574f57",
   "metadata": {},
   "outputs": [
    {
     "data": {
      "text/html": [
       "<div>\n",
       "<style scoped>\n",
       "    .dataframe tbody tr th:only-of-type {\n",
       "        vertical-align: middle;\n",
       "    }\n",
       "\n",
       "    .dataframe tbody tr th {\n",
       "        vertical-align: top;\n",
       "    }\n",
       "\n",
       "    .dataframe thead th {\n",
       "        text-align: right;\n",
       "    }\n",
       "</style>\n",
       "<table border=\"1\" class=\"dataframe\">\n",
       "  <thead>\n",
       "    <tr style=\"text-align: right;\">\n",
       "      <th></th>\n",
       "      <th>product_id</th>\n",
       "      <th>product_name</th>\n",
       "      <th>brand_id</th>\n",
       "      <th>brand_name</th>\n",
       "      <th>loves_count</th>\n",
       "      <th>rating</th>\n",
       "      <th>reviews</th>\n",
       "      <th>size</th>\n",
       "      <th>variation_type</th>\n",
       "      <th>variation_value</th>\n",
       "      <th>...</th>\n",
       "      <th>limited_edition</th>\n",
       "      <th>new</th>\n",
       "      <th>online_only</th>\n",
       "      <th>out_of_stock</th>\n",
       "      <th>sephora_exclusive</th>\n",
       "      <th>highlights</th>\n",
       "      <th>primary_category</th>\n",
       "      <th>secondary_category</th>\n",
       "      <th>tertiary_category</th>\n",
       "      <th>child_count</th>\n",
       "    </tr>\n",
       "  </thead>\n",
       "  <tbody>\n",
       "    <tr>\n",
       "      <th>0</th>\n",
       "      <td>P473671</td>\n",
       "      <td>Fragrance Discovery Set</td>\n",
       "      <td>6342</td>\n",
       "      <td>19-69</td>\n",
       "      <td>6320</td>\n",
       "      <td>3.6364</td>\n",
       "      <td>11.0</td>\n",
       "      <td>Pack</td>\n",
       "      <td>NaN</td>\n",
       "      <td>NaN</td>\n",
       "      <td>...</td>\n",
       "      <td>0</td>\n",
       "      <td>0</td>\n",
       "      <td>1</td>\n",
       "      <td>0</td>\n",
       "      <td>0</td>\n",
       "      <td>['Unisex/ Genderless Scent', 'Warm &amp;Spicy Scen...</td>\n",
       "      <td>Fragrance</td>\n",
       "      <td>Value &amp; Gift Sets</td>\n",
       "      <td>Perfume Gift Sets</td>\n",
       "      <td>0</td>\n",
       "    </tr>\n",
       "    <tr>\n",
       "      <th>1</th>\n",
       "      <td>P473668</td>\n",
       "      <td>La Habana Eau de Parfum</td>\n",
       "      <td>6342</td>\n",
       "      <td>19-69</td>\n",
       "      <td>3827</td>\n",
       "      <td>4.1538</td>\n",
       "      <td>13.0</td>\n",
       "      <td>100mL</td>\n",
       "      <td>Size + Concentration + Formulation</td>\n",
       "      <td>3.4 oz/ 100 mL</td>\n",
       "      <td>...</td>\n",
       "      <td>0</td>\n",
       "      <td>0</td>\n",
       "      <td>1</td>\n",
       "      <td>0</td>\n",
       "      <td>0</td>\n",
       "      <td>['Unisex/ Genderless Scent', 'Layerable Scent'...</td>\n",
       "      <td>Fragrance</td>\n",
       "      <td>Women</td>\n",
       "      <td>Perfume</td>\n",
       "      <td>2</td>\n",
       "    </tr>\n",
       "    <tr>\n",
       "      <th>2</th>\n",
       "      <td>P473662</td>\n",
       "      <td>Rainbow Bar Eau de Parfum</td>\n",
       "      <td>6342</td>\n",
       "      <td>19-69</td>\n",
       "      <td>3253</td>\n",
       "      <td>4.2500</td>\n",
       "      <td>16.0</td>\n",
       "      <td>100mL</td>\n",
       "      <td>Size + Concentration + Formulation</td>\n",
       "      <td>3.4 oz/ 100 mL</td>\n",
       "      <td>...</td>\n",
       "      <td>0</td>\n",
       "      <td>0</td>\n",
       "      <td>1</td>\n",
       "      <td>0</td>\n",
       "      <td>0</td>\n",
       "      <td>['Unisex/ Genderless Scent', 'Layerable Scent'...</td>\n",
       "      <td>Fragrance</td>\n",
       "      <td>Women</td>\n",
       "      <td>Perfume</td>\n",
       "      <td>2</td>\n",
       "    </tr>\n",
       "    <tr>\n",
       "      <th>3</th>\n",
       "      <td>P473660</td>\n",
       "      <td>Kasbah Eau de Parfum</td>\n",
       "      <td>6342</td>\n",
       "      <td>19-69</td>\n",
       "      <td>3018</td>\n",
       "      <td>4.4762</td>\n",
       "      <td>21.0</td>\n",
       "      <td>100mL</td>\n",
       "      <td>Size + Concentration + Formulation</td>\n",
       "      <td>3.4 oz/ 100 mL</td>\n",
       "      <td>...</td>\n",
       "      <td>0</td>\n",
       "      <td>0</td>\n",
       "      <td>1</td>\n",
       "      <td>0</td>\n",
       "      <td>0</td>\n",
       "      <td>['Unisex/ Genderless Scent', 'Layerable Scent'...</td>\n",
       "      <td>Fragrance</td>\n",
       "      <td>Women</td>\n",
       "      <td>Perfume</td>\n",
       "      <td>2</td>\n",
       "    </tr>\n",
       "    <tr>\n",
       "      <th>4</th>\n",
       "      <td>P473658</td>\n",
       "      <td>Purple Haze Eau de Parfum</td>\n",
       "      <td>6342</td>\n",
       "      <td>19-69</td>\n",
       "      <td>2691</td>\n",
       "      <td>3.2308</td>\n",
       "      <td>13.0</td>\n",
       "      <td>100mL</td>\n",
       "      <td>Size + Concentration + Formulation</td>\n",
       "      <td>3.4 oz/ 100 mL</td>\n",
       "      <td>...</td>\n",
       "      <td>0</td>\n",
       "      <td>0</td>\n",
       "      <td>1</td>\n",
       "      <td>0</td>\n",
       "      <td>0</td>\n",
       "      <td>['Unisex/ Genderless Scent', 'Layerable Scent'...</td>\n",
       "      <td>Fragrance</td>\n",
       "      <td>Women</td>\n",
       "      <td>Perfume</td>\n",
       "      <td>2</td>\n",
       "    </tr>\n",
       "  </tbody>\n",
       "</table>\n",
       "<p>5 rows × 22 columns</p>\n",
       "</div>"
      ],
      "text/plain": [
       "  product_id               product_name  brand_id brand_name  loves_count  \\\n",
       "0    P473671    Fragrance Discovery Set      6342      19-69         6320   \n",
       "1    P473668    La Habana Eau de Parfum      6342      19-69         3827   \n",
       "2    P473662  Rainbow Bar Eau de Parfum      6342      19-69         3253   \n",
       "3    P473660       Kasbah Eau de Parfum      6342      19-69         3018   \n",
       "4    P473658  Purple Haze Eau de Parfum      6342      19-69         2691   \n",
       "\n",
       "   rating  reviews   size                      variation_type variation_value  \\\n",
       "0  3.6364     11.0   Pack                                 NaN             NaN   \n",
       "1  4.1538     13.0  100mL  Size + Concentration + Formulation  3.4 oz/ 100 mL   \n",
       "2  4.2500     16.0  100mL  Size + Concentration + Formulation  3.4 oz/ 100 mL   \n",
       "3  4.4762     21.0  100mL  Size + Concentration + Formulation  3.4 oz/ 100 mL   \n",
       "4  3.2308     13.0  100mL  Size + Concentration + Formulation  3.4 oz/ 100 mL   \n",
       "\n",
       "   ... limited_edition  new  online_only  out_of_stock  sephora_exclusive  \\\n",
       "0  ...               0    0            1             0                  0   \n",
       "1  ...               0    0            1             0                  0   \n",
       "2  ...               0    0            1             0                  0   \n",
       "3  ...               0    0            1             0                  0   \n",
       "4  ...               0    0            1             0                  0   \n",
       "\n",
       "                                          highlights  primary_category  \\\n",
       "0  ['Unisex/ Genderless Scent', 'Warm &Spicy Scen...         Fragrance   \n",
       "1  ['Unisex/ Genderless Scent', 'Layerable Scent'...         Fragrance   \n",
       "2  ['Unisex/ Genderless Scent', 'Layerable Scent'...         Fragrance   \n",
       "3  ['Unisex/ Genderless Scent', 'Layerable Scent'...         Fragrance   \n",
       "4  ['Unisex/ Genderless Scent', 'Layerable Scent'...         Fragrance   \n",
       "\n",
       "  secondary_category  tertiary_category child_count  \n",
       "0  Value & Gift Sets  Perfume Gift Sets           0  \n",
       "1              Women            Perfume           2  \n",
       "2              Women            Perfume           2  \n",
       "3              Women            Perfume           2  \n",
       "4              Women            Perfume           2  \n",
       "\n",
       "[5 rows x 22 columns]"
      ]
     },
     "execution_count": 580,
     "metadata": {},
     "output_type": "execute_result"
    }
   ],
   "source": [
    "products.head()"
   ]
  },
  {
   "cell_type": "code",
   "execution_count": 586,
   "id": "38d19d74-d3fa-462b-b4b5-0067c1ed1671",
   "metadata": {},
   "outputs": [],
   "source": [
    "# Crear una nueva columna que contenga True si 'variation_type' tiene un valor y False si está vacío\n",
    "#products[\"variation_type\"].apply(lambda x: 0 if pd.isna(x) else 1)\n",
    "products['variation_type'] = products['variation_type'].notna() & products['variation_type'].astype(bool)"
   ]
  },
  {
   "cell_type": "code",
   "execution_count": 594,
   "id": "d30c7f0f-0bba-4d1a-b65c-5eb787ec1ba9",
   "metadata": {},
   "outputs": [
    {
     "data": {
      "text/html": [
       "<div>\n",
       "<style scoped>\n",
       "    .dataframe tbody tr th:only-of-type {\n",
       "        vertical-align: middle;\n",
       "    }\n",
       "\n",
       "    .dataframe tbody tr th {\n",
       "        vertical-align: top;\n",
       "    }\n",
       "\n",
       "    .dataframe thead th {\n",
       "        text-align: right;\n",
       "    }\n",
       "</style>\n",
       "<table border=\"1\" class=\"dataframe\">\n",
       "  <thead>\n",
       "    <tr style=\"text-align: right;\">\n",
       "      <th></th>\n",
       "      <th>product_id</th>\n",
       "      <th>product_name</th>\n",
       "      <th>brand_id</th>\n",
       "      <th>brand_name</th>\n",
       "      <th>loves_count</th>\n",
       "      <th>rating</th>\n",
       "      <th>reviews</th>\n",
       "      <th>size</th>\n",
       "      <th>variation_type</th>\n",
       "      <th>variation_value</th>\n",
       "      <th>...</th>\n",
       "      <th>limited_edition</th>\n",
       "      <th>new</th>\n",
       "      <th>online_only</th>\n",
       "      <th>out_of_stock</th>\n",
       "      <th>sephora_exclusive</th>\n",
       "      <th>highlights</th>\n",
       "      <th>primary_category</th>\n",
       "      <th>secondary_category</th>\n",
       "      <th>tertiary_category</th>\n",
       "      <th>child_count</th>\n",
       "    </tr>\n",
       "  </thead>\n",
       "  <tbody>\n",
       "    <tr>\n",
       "      <th>0</th>\n",
       "      <td>P473671</td>\n",
       "      <td>Fragrance Discovery Set</td>\n",
       "      <td>6342</td>\n",
       "      <td>19-69</td>\n",
       "      <td>6320</td>\n",
       "      <td>3.6364</td>\n",
       "      <td>11.0</td>\n",
       "      <td>Pack</td>\n",
       "      <td>False</td>\n",
       "      <td>NaN</td>\n",
       "      <td>...</td>\n",
       "      <td>0</td>\n",
       "      <td>0</td>\n",
       "      <td>1</td>\n",
       "      <td>0</td>\n",
       "      <td>0</td>\n",
       "      <td>['Unisex/ Genderless Scent', 'Warm &amp;Spicy Scen...</td>\n",
       "      <td>Fragrance</td>\n",
       "      <td>Value &amp; Gift Sets</td>\n",
       "      <td>Perfume Gift Sets</td>\n",
       "      <td>0</td>\n",
       "    </tr>\n",
       "    <tr>\n",
       "      <th>1</th>\n",
       "      <td>P473668</td>\n",
       "      <td>La Habana Eau de Parfum</td>\n",
       "      <td>6342</td>\n",
       "      <td>19-69</td>\n",
       "      <td>3827</td>\n",
       "      <td>4.1538</td>\n",
       "      <td>13.0</td>\n",
       "      <td>100mL</td>\n",
       "      <td>True</td>\n",
       "      <td>3.4 oz/ 100 mL</td>\n",
       "      <td>...</td>\n",
       "      <td>0</td>\n",
       "      <td>0</td>\n",
       "      <td>1</td>\n",
       "      <td>0</td>\n",
       "      <td>0</td>\n",
       "      <td>['Unisex/ Genderless Scent', 'Layerable Scent'...</td>\n",
       "      <td>Fragrance</td>\n",
       "      <td>Women</td>\n",
       "      <td>Perfume</td>\n",
       "      <td>2</td>\n",
       "    </tr>\n",
       "  </tbody>\n",
       "</table>\n",
       "<p>2 rows × 22 columns</p>\n",
       "</div>"
      ],
      "text/plain": [
       "  product_id             product_name  brand_id brand_name  loves_count  \\\n",
       "0    P473671  Fragrance Discovery Set      6342      19-69         6320   \n",
       "1    P473668  La Habana Eau de Parfum      6342      19-69         3827   \n",
       "\n",
       "   rating  reviews   size  variation_type variation_value  ...  \\\n",
       "0  3.6364     11.0   Pack           False             NaN  ...   \n",
       "1  4.1538     13.0  100mL            True  3.4 oz/ 100 mL  ...   \n",
       "\n",
       "  limited_edition  new  online_only  out_of_stock  sephora_exclusive  \\\n",
       "0               0    0            1             0                  0   \n",
       "1               0    0            1             0                  0   \n",
       "\n",
       "                                          highlights  primary_category  \\\n",
       "0  ['Unisex/ Genderless Scent', 'Warm &Spicy Scen...         Fragrance   \n",
       "1  ['Unisex/ Genderless Scent', 'Layerable Scent'...         Fragrance   \n",
       "\n",
       "  secondary_category  tertiary_category child_count  \n",
       "0  Value & Gift Sets  Perfume Gift Sets           0  \n",
       "1              Women            Perfume           2  \n",
       "\n",
       "[2 rows x 22 columns]"
      ]
     },
     "execution_count": 594,
     "metadata": {},
     "output_type": "execute_result"
    }
   ],
   "source": [
    "products.head(2)"
   ]
  },
  {
   "cell_type": "code",
   "execution_count": 626,
   "id": "a44beadb-a3ca-4936-98dd-1787e454288d",
   "metadata": {},
   "outputs": [
    {
     "data": {
      "text/plain": [
       "product_id                                                      P392945\n",
       "product_name                GENIUS Ultimate Anti-Aging Vitamin C+ Serum\n",
       "brand_id                                                           6018\n",
       "brand_name                                                     Algenist\n",
       "loves_count                                                       10068\n",
       "rating                                                           3.9825\n",
       "reviews                                                           229.0\n",
       "size                                                        1 oz/ 30 mL\n",
       "variation_type                                                     Size\n",
       "variation_value                                             1 oz/ 30 mL\n",
       "variation_desc                                                      NaN\n",
       "ingredients           ['Water, Glycerin, Butylene Glycol, 3-O-Ethyl ...\n",
       "price_usd                                                         118.0\n",
       "value_price_usd                                                     NaN\n",
       "sale_price_usd                                                      NaN\n",
       "limited_edition                                                       0\n",
       "new                                                                   0\n",
       "online_only                                                           0\n",
       "out_of_stock                                                          0\n",
       "sephora_exclusive                                                     0\n",
       "highlights            [Vegan, Collagen, Hypoallergenic, Good for: Lo...\n",
       "primary_category                                               Skincare\n",
       "secondary_category                                           Treatments\n",
       "tertiary_category                                           Face Serums\n",
       "child_count                                                           0\n",
       "child_max_price                                                     NaN\n",
       "child_min_price                                                     NaN\n",
       "highlights 1                                                      Vegan\n",
       "highlights 2                                                   Collagen\n",
       "highlights 3                                             Hypoallergenic\n",
       "highlights 4                                 Good for: Loss of firmness\n",
       "highlights 5                           Best for Dry, Combo, Normal Skin\n",
       "highlights 6                                                        NaN\n",
       "highlights 7                                                        NaN\n",
       "highlights 8                                                        NaN\n",
       "highlights 9                                                        NaN\n",
       "Name: 100, dtype: object"
      ]
     },
     "execution_count": 626,
     "metadata": {},
     "output_type": "execute_result"
    }
   ],
   "source": [
    "products.iloc[100,:]"
   ]
  },
  {
   "cell_type": "markdown",
   "id": "9413dc86-419c-4b3b-9543-d3c111e7095a",
   "metadata": {},
   "source": [
    "## Separacion Highlights"
   ]
  },
  {
   "cell_type": "code",
   "execution_count": 610,
   "id": "64941e30-9855-47f4-b6b9-1ee8cc6e0759",
   "metadata": {},
   "outputs": [],
   "source": [
    "# Función para convertir las cadenas en listas, manejando valores NaN\n",
    "def convert_to_list(highlight):\n",
    "    if pd.isna(highlight):\n",
    "        return []  # O podrías usar `return highlight` si prefieres mantener los NaN\n",
    "    return ast.literal_eval(highlight)"
   ]
  },
  {
   "cell_type": "code",
   "execution_count": 618,
   "id": "07498b97-3647-42b9-8544-a490bfb6f95f",
   "metadata": {},
   "outputs": [
    {
     "name": "stderr",
     "output_type": "stream",
     "text": [
      "/var/folders/m_/06pskt392pn6qvkq92krm8xm0000gn/T/ipykernel_89546/203888917.py:11: FutureWarning:\n",
      "\n",
      "Setting an item of incompatible dtype is deprecated and will raise in a future error of pandas. Value 'Unisex/ Genderless Scent' has dtype incompatible with float64, please explicitly cast to a compatible dtype first.\n",
      "\n",
      "/var/folders/m_/06pskt392pn6qvkq92krm8xm0000gn/T/ipykernel_89546/203888917.py:11: FutureWarning:\n",
      "\n",
      "Setting an item of incompatible dtype is deprecated and will raise in a future error of pandas. Value 'Warm &Spicy Scent' has dtype incompatible with float64, please explicitly cast to a compatible dtype first.\n",
      "\n",
      "/var/folders/m_/06pskt392pn6qvkq92krm8xm0000gn/T/ipykernel_89546/203888917.py:11: FutureWarning:\n",
      "\n",
      "Setting an item of incompatible dtype is deprecated and will raise in a future error of pandas. Value 'Woody & Earthy Scent' has dtype incompatible with float64, please explicitly cast to a compatible dtype first.\n",
      "\n",
      "/var/folders/m_/06pskt392pn6qvkq92krm8xm0000gn/T/ipykernel_89546/203888917.py:11: FutureWarning:\n",
      "\n",
      "Setting an item of incompatible dtype is deprecated and will raise in a future error of pandas. Value 'Fresh Scent' has dtype incompatible with float64, please explicitly cast to a compatible dtype first.\n",
      "\n",
      "/var/folders/m_/06pskt392pn6qvkq92krm8xm0000gn/T/ipykernel_89546/203888917.py:11: FutureWarning:\n",
      "\n",
      "Setting an item of incompatible dtype is deprecated and will raise in a future error of pandas. Value 'Without Sulfates SLS & SLES' has dtype incompatible with float64, please explicitly cast to a compatible dtype first.\n",
      "\n",
      "/var/folders/m_/06pskt392pn6qvkq92krm8xm0000gn/T/ipykernel_89546/203888917.py:11: FutureWarning:\n",
      "\n",
      "Setting an item of incompatible dtype is deprecated and will raise in a future error of pandas. Value 'Black Owned at Sephora' has dtype incompatible with float64, please explicitly cast to a compatible dtype first.\n",
      "\n",
      "/var/folders/m_/06pskt392pn6qvkq92krm8xm0000gn/T/ipykernel_89546/203888917.py:11: FutureWarning:\n",
      "\n",
      "Setting an item of incompatible dtype is deprecated and will raise in a future error of pandas. Value 'Clean at Sephora' has dtype incompatible with float64, please explicitly cast to a compatible dtype first.\n",
      "\n",
      "/var/folders/m_/06pskt392pn6qvkq92krm8xm0000gn/T/ipykernel_89546/203888917.py:11: FutureWarning:\n",
      "\n",
      "Setting an item of incompatible dtype is deprecated and will raise in a future error of pandas. Value 'Cruelty-Free' has dtype incompatible with float64, please explicitly cast to a compatible dtype first.\n",
      "\n"
     ]
    }
   ],
   "source": [
    "# Aplicar la función a la columna 'highlights'\n",
    "products.loc[:,'highlights'] = products.loc[:, 'highlights'].apply(convert_to_list)\n",
    "max_len = products['highlights'].apply(len).max()\n",
    "for i in range(max_len):  # Limitar a un máximo de 9 columnas\n",
    "    products[f'highlights {i+1}'] = np.nan\n",
    "# Iterar sobre los primeros dos elementos de products['highlights']\n",
    "#for i in range(len(data_high)):\n",
    "for i in range(len(products)):\n",
    "    for j in range(len(products.highlights[i])):\n",
    "      #print(f\"La posición {i}, {j} es {data_high.highlights[i][j]}\")\n",
    "        products.loc[i, f'highlights {j+1}'] = products.highlights[i][j]"
   ]
  },
  {
   "cell_type": "code",
   "execution_count": 620,
   "id": "8551e413-8364-48b9-85b1-ec22a4eedbfd",
   "metadata": {},
   "outputs": [
    {
     "data": {
      "text/html": [
       "<div>\n",
       "<style scoped>\n",
       "    .dataframe tbody tr th:only-of-type {\n",
       "        vertical-align: middle;\n",
       "    }\n",
       "\n",
       "    .dataframe tbody tr th {\n",
       "        vertical-align: top;\n",
       "    }\n",
       "\n",
       "    .dataframe thead th {\n",
       "        text-align: right;\n",
       "    }\n",
       "</style>\n",
       "<table border=\"1\" class=\"dataframe\">\n",
       "  <thead>\n",
       "    <tr style=\"text-align: right;\">\n",
       "      <th></th>\n",
       "      <th>product_id</th>\n",
       "      <th>product_name</th>\n",
       "      <th>brand_id</th>\n",
       "      <th>brand_name</th>\n",
       "      <th>loves_count</th>\n",
       "      <th>rating</th>\n",
       "      <th>reviews</th>\n",
       "      <th>size</th>\n",
       "      <th>variation_type</th>\n",
       "      <th>variation_value</th>\n",
       "      <th>...</th>\n",
       "      <th>child_min_price</th>\n",
       "      <th>highlights 1</th>\n",
       "      <th>highlights 2</th>\n",
       "      <th>highlights 3</th>\n",
       "      <th>highlights 4</th>\n",
       "      <th>highlights 5</th>\n",
       "      <th>highlights 6</th>\n",
       "      <th>highlights 7</th>\n",
       "      <th>highlights 8</th>\n",
       "      <th>highlights 9</th>\n",
       "    </tr>\n",
       "  </thead>\n",
       "  <tbody>\n",
       "    <tr>\n",
       "      <th>0</th>\n",
       "      <td>P473671</td>\n",
       "      <td>Fragrance Discovery Set</td>\n",
       "      <td>6342</td>\n",
       "      <td>19-69</td>\n",
       "      <td>6320</td>\n",
       "      <td>3.6364</td>\n",
       "      <td>11.0</td>\n",
       "      <td>NaN</td>\n",
       "      <td>NaN</td>\n",
       "      <td>NaN</td>\n",
       "      <td>...</td>\n",
       "      <td>NaN</td>\n",
       "      <td>Unisex/ Genderless Scent</td>\n",
       "      <td>Warm &amp;Spicy Scent</td>\n",
       "      <td>Woody &amp; Earthy Scent</td>\n",
       "      <td>Fresh Scent</td>\n",
       "      <td>NaN</td>\n",
       "      <td>NaN</td>\n",
       "      <td>NaN</td>\n",
       "      <td>NaN</td>\n",
       "      <td>NaN</td>\n",
       "    </tr>\n",
       "    <tr>\n",
       "      <th>1</th>\n",
       "      <td>P473668</td>\n",
       "      <td>La Habana Eau de Parfum</td>\n",
       "      <td>6342</td>\n",
       "      <td>19-69</td>\n",
       "      <td>3827</td>\n",
       "      <td>4.1538</td>\n",
       "      <td>13.0</td>\n",
       "      <td>3.4 oz/ 100 mL</td>\n",
       "      <td>Size + Concentration + Formulation</td>\n",
       "      <td>3.4 oz/ 100 mL</td>\n",
       "      <td>...</td>\n",
       "      <td>30.0</td>\n",
       "      <td>Unisex/ Genderless Scent</td>\n",
       "      <td>Layerable Scent</td>\n",
       "      <td>Warm &amp;Spicy Scent</td>\n",
       "      <td>NaN</td>\n",
       "      <td>NaN</td>\n",
       "      <td>NaN</td>\n",
       "      <td>NaN</td>\n",
       "      <td>NaN</td>\n",
       "      <td>NaN</td>\n",
       "    </tr>\n",
       "  </tbody>\n",
       "</table>\n",
       "<p>2 rows × 36 columns</p>\n",
       "</div>"
      ],
      "text/plain": [
       "  product_id             product_name  brand_id brand_name  loves_count  \\\n",
       "0    P473671  Fragrance Discovery Set      6342      19-69         6320   \n",
       "1    P473668  La Habana Eau de Parfum      6342      19-69         3827   \n",
       "\n",
       "   rating  reviews            size                      variation_type  \\\n",
       "0  3.6364     11.0             NaN                                 NaN   \n",
       "1  4.1538     13.0  3.4 oz/ 100 mL  Size + Concentration + Formulation   \n",
       "\n",
       "  variation_value  ... child_min_price              highlights 1  \\\n",
       "0             NaN  ...             NaN  Unisex/ Genderless Scent   \n",
       "1  3.4 oz/ 100 mL  ...            30.0  Unisex/ Genderless Scent   \n",
       "\n",
       "        highlights 2          highlights 3  highlights 4  highlights 5  \\\n",
       "0  Warm &Spicy Scent  Woody & Earthy Scent   Fresh Scent           NaN   \n",
       "1    Layerable Scent     Warm &Spicy Scent           NaN           NaN   \n",
       "\n",
       "   highlights 6  highlights 7  highlights 8  highlights 9  \n",
       "0           NaN           NaN           NaN           NaN  \n",
       "1           NaN           NaN           NaN           NaN  \n",
       "\n",
       "[2 rows x 36 columns]"
      ]
     },
     "execution_count": 620,
     "metadata": {},
     "output_type": "execute_result"
    }
   ],
   "source": [
    "products.head(2)"
   ]
  },
  {
   "cell_type": "markdown",
   "id": "2af386c0-d698-44aa-bb4b-839307e2b0c0",
   "metadata": {},
   "source": [
    "### Limpieza de Ingredientes"
   ]
  },
  {
   "cell_type": "code",
   "execution_count": 631,
   "id": "0ca1540d-8221-4ac9-912c-a5357db6eb3c",
   "metadata": {},
   "outputs": [
    {
     "name": "stdout",
     "output_type": "stream",
     "text": [
      "0    Coumarin, Parfum (Fragrance) Benzyl Salicylate...\n",
      "1    Coumarin Limonene, Ethylhexyl Salicylate, Benz...\n",
      "2    Ethylhexyl Methoxycinnamate, Linalool, Coumari...\n",
      "3    Parfum (Fragrance) Coumarin, Ethylhexyl Methox...\n",
      "4    Ethylhexyl Methoxycinnamate, Coumarin, Ethylhe...\n",
      "Name: ingredients, dtype: object\n"
     ]
    }
   ],
   "source": [
    "# Cargar los datos\n",
    "df = products.copy()\n",
    "# Limpieza de datos\n",
    "# Reemplazar valores nulos con \"None\"\n",
    "df['ingredients'] = df['ingredients'].fillna('None')\n",
    "# Asegurarse de que todas las entradas sean cadenas\n",
    "df['ingredients'] = df['ingredients'].astype(str)\n",
    "# Eliminar caracteres innecesarios, pero mantener números, barras y guiones\n",
    "df['ingredients'] = df['ingredients'].apply(lambda x: re.sub(r'[^a-zA-Z0-9, /()-]', '', x) if isinstance(x, str) else x)\n",
    "# Tokenización - asegurarse de no separar nombres compuestos\n",
    "df['ingredients'] = df['ingredients'].apply(lambda x: x.split(',') if isinstance(x, str) else [])\n",
    "# Eliminación de duplicados dentro de cada lista de ingredientes\n",
    "df['ingredients'] = df['ingredients'].apply(lambda x: list(set(x)) if isinstance(x, list) else [])\n",
    "# Normalización de texto sin cambiar el formato original\n",
    "df['ingredients'] = df['ingredients'].apply(lambda x: [i.strip() for i in x] if isinstance(x, list) else [])\n",
    "# Convertir de nuevo a una cadena para una presentación más limpia si es necesario\n",
    "df['ingredients'] = df['ingredients'].apply(lambda x: ', '.join(x) if isinstance(x, list) else x)\n",
    "# Revisión final de la columna de ingredientes\n",
    "print(df['ingredients'].head())"
   ]
  },
  {
   "cell_type": "markdown",
   "id": "1e90b639-100e-4867-860f-17ab244e826e",
   "metadata": {},
   "source": [
    "## Reviews1 "
   ]
  },
  {
   "cell_type": "markdown",
   "id": "232a4506-adf7-43d4-afa1-3aa9e2aee56d",
   "metadata": {},
   "source": [
    "### Buscar relacion entre productos, tipo de piel, ojo, tono de piel, y cabello en reviews1"
   ]
  },
  {
   "cell_type": "code",
   "execution_count": 88,
   "id": "801d2bbf-a0b4-4613-afa3-c9ff261ad533",
   "metadata": {},
   "outputs": [
    {
     "data": {
      "text/html": [
       "<div>\n",
       "<style scoped>\n",
       "    .dataframe tbody tr th:only-of-type {\n",
       "        vertical-align: middle;\n",
       "    }\n",
       "\n",
       "    .dataframe tbody tr th {\n",
       "        vertical-align: top;\n",
       "    }\n",
       "\n",
       "    .dataframe thead th {\n",
       "        text-align: right;\n",
       "    }\n",
       "</style>\n",
       "<table border=\"1\" class=\"dataframe\">\n",
       "  <thead>\n",
       "    <tr style=\"text-align: right;\">\n",
       "      <th></th>\n",
       "      <th>Unnamed: 0</th>\n",
       "      <th>author_id</th>\n",
       "      <th>rating</th>\n",
       "      <th>is_recommended</th>\n",
       "      <th>helpfulness</th>\n",
       "      <th>total_feedback_count</th>\n",
       "      <th>total_neg_feedback_count</th>\n",
       "      <th>total_pos_feedback_count</th>\n",
       "      <th>submission_time</th>\n",
       "      <th>review_text</th>\n",
       "      <th>review_title</th>\n",
       "      <th>skin_tone</th>\n",
       "      <th>eye_color</th>\n",
       "      <th>skin_type</th>\n",
       "      <th>hair_color</th>\n",
       "      <th>product_id</th>\n",
       "      <th>product_name</th>\n",
       "      <th>brand_name</th>\n",
       "      <th>price_usd</th>\n",
       "      <th>skin_tone_grouped</th>\n",
       "    </tr>\n",
       "  </thead>\n",
       "  <tbody>\n",
       "    <tr>\n",
       "      <th>0</th>\n",
       "      <td>0</td>\n",
       "      <td>1741593524</td>\n",
       "      <td>5</td>\n",
       "      <td>1.0</td>\n",
       "      <td>1.0</td>\n",
       "      <td>2</td>\n",
       "      <td>0</td>\n",
       "      <td>2</td>\n",
       "      <td>2023-02-01</td>\n",
       "      <td>I use this with the Nudestix “Citrus Clean Bal...</td>\n",
       "      <td>Taught me how to double cleanse!</td>\n",
       "      <td>NaN</td>\n",
       "      <td>brown</td>\n",
       "      <td>dry</td>\n",
       "      <td>black</td>\n",
       "      <td>P504322</td>\n",
       "      <td>Gentle Hydra-Gel Face Cleanser</td>\n",
       "      <td>NUDESTIX</td>\n",
       "      <td>19.0</td>\n",
       "      <td>NaN</td>\n",
       "    </tr>\n",
       "    <tr>\n",
       "      <th>1</th>\n",
       "      <td>1</td>\n",
       "      <td>31423088263</td>\n",
       "      <td>1</td>\n",
       "      <td>0.0</td>\n",
       "      <td>NaN</td>\n",
       "      <td>0</td>\n",
       "      <td>0</td>\n",
       "      <td>0</td>\n",
       "      <td>2023-03-21</td>\n",
       "      <td>I bought this lip mask after reading the revie...</td>\n",
       "      <td>Disappointed</td>\n",
       "      <td>NaN</td>\n",
       "      <td>NaN</td>\n",
       "      <td>NaN</td>\n",
       "      <td>NaN</td>\n",
       "      <td>P420652</td>\n",
       "      <td>Lip Sleeping Mask Intense Hydration with Vitam...</td>\n",
       "      <td>LANEIGE</td>\n",
       "      <td>24.0</td>\n",
       "      <td>NaN</td>\n",
       "    </tr>\n",
       "    <tr>\n",
       "      <th>2</th>\n",
       "      <td>2</td>\n",
       "      <td>5061282401</td>\n",
       "      <td>5</td>\n",
       "      <td>1.0</td>\n",
       "      <td>NaN</td>\n",
       "      <td>0</td>\n",
       "      <td>0</td>\n",
       "      <td>0</td>\n",
       "      <td>2023-03-21</td>\n",
       "      <td>My review title says it all! I get so excited ...</td>\n",
       "      <td>New Favorite Routine</td>\n",
       "      <td>light</td>\n",
       "      <td>brown</td>\n",
       "      <td>dry</td>\n",
       "      <td>blonde</td>\n",
       "      <td>P420652</td>\n",
       "      <td>Lip Sleeping Mask Intense Hydration with Vitam...</td>\n",
       "      <td>LANEIGE</td>\n",
       "      <td>24.0</td>\n",
       "      <td>NaN</td>\n",
       "    </tr>\n",
       "    <tr>\n",
       "      <th>3</th>\n",
       "      <td>3</td>\n",
       "      <td>6083038851</td>\n",
       "      <td>5</td>\n",
       "      <td>1.0</td>\n",
       "      <td>NaN</td>\n",
       "      <td>0</td>\n",
       "      <td>0</td>\n",
       "      <td>0</td>\n",
       "      <td>2023-03-20</td>\n",
       "      <td>I’ve always loved this formula for a long time...</td>\n",
       "      <td>Can't go wrong with any of them</td>\n",
       "      <td>NaN</td>\n",
       "      <td>brown</td>\n",
       "      <td>combination</td>\n",
       "      <td>black</td>\n",
       "      <td>P420652</td>\n",
       "      <td>Lip Sleeping Mask Intense Hydration with Vitam...</td>\n",
       "      <td>LANEIGE</td>\n",
       "      <td>24.0</td>\n",
       "      <td>NaN</td>\n",
       "    </tr>\n",
       "    <tr>\n",
       "      <th>4</th>\n",
       "      <td>4</td>\n",
       "      <td>47056667835</td>\n",
       "      <td>5</td>\n",
       "      <td>1.0</td>\n",
       "      <td>NaN</td>\n",
       "      <td>0</td>\n",
       "      <td>0</td>\n",
       "      <td>0</td>\n",
       "      <td>2023-03-20</td>\n",
       "      <td>If you have dry cracked lips, this is a must h...</td>\n",
       "      <td>A must have !!!</td>\n",
       "      <td>light</td>\n",
       "      <td>hazel</td>\n",
       "      <td>combination</td>\n",
       "      <td>NaN</td>\n",
       "      <td>P420652</td>\n",
       "      <td>Lip Sleeping Mask Intense Hydration with Vitam...</td>\n",
       "      <td>LANEIGE</td>\n",
       "      <td>24.0</td>\n",
       "      <td>NaN</td>\n",
       "    </tr>\n",
       "  </tbody>\n",
       "</table>\n",
       "</div>"
      ],
      "text/plain": [
       "   Unnamed: 0    author_id  rating  is_recommended  helpfulness  \\\n",
       "0           0   1741593524       5             1.0          1.0   \n",
       "1           1  31423088263       1             0.0          NaN   \n",
       "2           2   5061282401       5             1.0          NaN   \n",
       "3           3   6083038851       5             1.0          NaN   \n",
       "4           4  47056667835       5             1.0          NaN   \n",
       "\n",
       "   total_feedback_count  total_neg_feedback_count  total_pos_feedback_count  \\\n",
       "0                     2                         0                         2   \n",
       "1                     0                         0                         0   \n",
       "2                     0                         0                         0   \n",
       "3                     0                         0                         0   \n",
       "4                     0                         0                         0   \n",
       "\n",
       "  submission_time                                        review_text  \\\n",
       "0      2023-02-01  I use this with the Nudestix “Citrus Clean Bal...   \n",
       "1      2023-03-21  I bought this lip mask after reading the revie...   \n",
       "2      2023-03-21  My review title says it all! I get so excited ...   \n",
       "3      2023-03-20  I’ve always loved this formula for a long time...   \n",
       "4      2023-03-20  If you have dry cracked lips, this is a must h...   \n",
       "\n",
       "                       review_title skin_tone eye_color    skin_type  \\\n",
       "0  Taught me how to double cleanse!       NaN     brown          dry   \n",
       "1                      Disappointed       NaN       NaN          NaN   \n",
       "2              New Favorite Routine     light     brown          dry   \n",
       "3   Can't go wrong with any of them       NaN     brown  combination   \n",
       "4                   A must have !!!     light     hazel  combination   \n",
       "\n",
       "  hair_color product_id                                       product_name  \\\n",
       "0      black    P504322                     Gentle Hydra-Gel Face Cleanser   \n",
       "1        NaN    P420652  Lip Sleeping Mask Intense Hydration with Vitam...   \n",
       "2     blonde    P420652  Lip Sleeping Mask Intense Hydration with Vitam...   \n",
       "3      black    P420652  Lip Sleeping Mask Intense Hydration with Vitam...   \n",
       "4        NaN    P420652  Lip Sleeping Mask Intense Hydration with Vitam...   \n",
       "\n",
       "  brand_name  price_usd skin_tone_grouped  \n",
       "0   NUDESTIX       19.0               NaN  \n",
       "1    LANEIGE       24.0               NaN  \n",
       "2    LANEIGE       24.0               NaN  \n",
       "3    LANEIGE       24.0               NaN  \n",
       "4    LANEIGE       24.0               NaN  "
      ]
     },
     "execution_count": 88,
     "metadata": {},
     "output_type": "execute_result"
    }
   ],
   "source": [
    "reviews1.head(50)"
   ]
  },
  {
   "cell_type": "code",
   "execution_count": 92,
   "id": "bc8d715a-f0b9-45db-8139-a88bff9e91bd",
   "metadata": {},
   "outputs": [
    {
     "data": {
      "text/plain": [
       "array([nan, 'light', 'lightMedium', 'fairLight', 'fair', 'medium',\n",
       "       'notSureST', 'mediumTan', 'tan', 'rich', 'olive', 'deep',\n",
       "       'porcelain', 'dark', 'ebony'], dtype=object)"
      ]
     },
     "execution_count": 92,
     "metadata": {},
     "output_type": "execute_result"
    }
   ],
   "source": [
    "reviews1.skin_tone.unique()"
   ]
  },
  {
   "cell_type": "code",
   "execution_count": 94,
   "id": "c0c151c1-6547-4dfd-8b4a-b25a8d0cbd11",
   "metadata": {},
   "outputs": [],
   "source": [
    "skin_tone_new = {\n",
    "    'porcelain': 'Muy Claro',\n",
    "    'fair': 'Muy Claro',\n",
    "    'fairLight': 'Muy Claro',\n",
    "    'light': 'Muy Claro',\n",
    "    'lightMedium': 'Claro a Medio',\n",
    "    'medium': 'Claro a Medio',\n",
    "    'olive': 'Medio a Bronceado',\n",
    "    'mediumTan': 'Medio a Bronceado',\n",
    "    'tan': 'Medio a Bronceado',\n",
    "    'rich': 'Oscuro',\n",
    "    'deep': 'Oscuro',\n",
    "    'dark': 'Oscuro',\n",
    "    'ebony': 'Oscuro',\n",
    "    'notSureST': 'No Especificado'\n",
    "}"
   ]
  },
  {
   "cell_type": "code",
   "execution_count": 96,
   "id": "0f9a04d3-2bd0-4006-b3f3-a3bf58f095af",
   "metadata": {},
   "outputs": [],
   "source": [
    "# Aplicar el mapeo a la columna 'skin_tone'\n",
    "reviews1['skin_tone_grouped'] = reviews1['skin_tone'].map(skin_tone_new)"
   ]
  },
  {
   "cell_type": "code",
   "execution_count": 141,
   "id": "1b3d9449-2e4b-47f3-a198-3ee596a48bb4",
   "metadata": {
    "scrolled": true
   },
   "outputs": [
    {
     "name": "stdout",
     "output_type": "stream",
     "text": [
      "<class 'pandas.core.frame.DataFrame'>\n",
      "RangeIndex: 602130 entries, 0 to 602129\n",
      "Data columns (total 20 columns):\n",
      " #   Column                    Non-Null Count   Dtype  \n",
      "---  ------                    --------------   -----  \n",
      " 0   Unnamed: 0                602130 non-null  int64  \n",
      " 1   author_id                 602130 non-null  object \n",
      " 2   rating                    602130 non-null  int64  \n",
      " 3   is_recommended            484644 non-null  float64\n",
      " 4   helpfulness               270298 non-null  float64\n",
      " 5   total_feedback_count      602130 non-null  int64  \n",
      " 6   total_neg_feedback_count  602130 non-null  int64  \n",
      " 7   total_pos_feedback_count  602130 non-null  int64  \n",
      " 8   submission_time           602130 non-null  object \n",
      " 9   review_text               601131 non-null  object \n",
      " 10  review_title              435119 non-null  object \n",
      " 11  skin_tone                 496074 non-null  object \n",
      " 12  eye_color                 463642 non-null  object \n",
      " 13  skin_type                 527447 non-null  object \n",
      " 14  hair_color                461049 non-null  object \n",
      " 15  product_id                602130 non-null  object \n",
      " 16  product_name              602130 non-null  object \n",
      " 17  brand_name                602130 non-null  object \n",
      " 18  price_usd                 602130 non-null  float64\n",
      " 19  skin_tone_grouped         496074 non-null  object \n",
      "dtypes: float64(3), int64(5), object(12)\n",
      "memory usage: 91.9+ MB\n"
     ]
    }
   ],
   "source": [
    "reviews1.info()"
   ]
  },
  {
   "cell_type": "code",
   "execution_count": 151,
   "id": "692a70c3-c617-4671-b919-ef579818a349",
   "metadata": {},
   "outputs": [
    {
     "data": {
      "text/html": [
       "<div>\n",
       "<style scoped>\n",
       "    .dataframe tbody tr th:only-of-type {\n",
       "        vertical-align: middle;\n",
       "    }\n",
       "\n",
       "    .dataframe tbody tr th {\n",
       "        vertical-align: top;\n",
       "    }\n",
       "\n",
       "    .dataframe thead th {\n",
       "        text-align: right;\n",
       "    }\n",
       "</style>\n",
       "<table border=\"1\" class=\"dataframe\">\n",
       "  <thead>\n",
       "    <tr style=\"text-align: right;\">\n",
       "      <th>skin_tone_grouped</th>\n",
       "      <th>Claro a Medio</th>\n",
       "      <th>Medio a Bronceado</th>\n",
       "      <th>Muy Claro</th>\n",
       "      <th>No Especificado</th>\n",
       "      <th>Oscuro</th>\n",
       "    </tr>\n",
       "    <tr>\n",
       "      <th>product_id</th>\n",
       "      <th></th>\n",
       "      <th></th>\n",
       "      <th></th>\n",
       "      <th></th>\n",
       "      <th></th>\n",
       "    </tr>\n",
       "  </thead>\n",
       "  <tbody>\n",
       "    <tr>\n",
       "      <th>P114902</th>\n",
       "      <td>231</td>\n",
       "      <td>120</td>\n",
       "      <td>535</td>\n",
       "      <td>0</td>\n",
       "      <td>27</td>\n",
       "    </tr>\n",
       "    <tr>\n",
       "      <th>P12045</th>\n",
       "      <td>294</td>\n",
       "      <td>128</td>\n",
       "      <td>660</td>\n",
       "      <td>1</td>\n",
       "      <td>26</td>\n",
       "    </tr>\n",
       "    <tr>\n",
       "      <th>P122718</th>\n",
       "      <td>195</td>\n",
       "      <td>105</td>\n",
       "      <td>393</td>\n",
       "      <td>0</td>\n",
       "      <td>18</td>\n",
       "    </tr>\n",
       "    <tr>\n",
       "      <th>P122774</th>\n",
       "      <td>281</td>\n",
       "      <td>124</td>\n",
       "      <td>667</td>\n",
       "      <td>0</td>\n",
       "      <td>15</td>\n",
       "    </tr>\n",
       "    <tr>\n",
       "      <th>P122882</th>\n",
       "      <td>257</td>\n",
       "      <td>92</td>\n",
       "      <td>554</td>\n",
       "      <td>0</td>\n",
       "      <td>18</td>\n",
       "    </tr>\n",
       "    <tr>\n",
       "      <th>...</th>\n",
       "      <td>...</td>\n",
       "      <td>...</td>\n",
       "      <td>...</td>\n",
       "      <td>...</td>\n",
       "      <td>...</td>\n",
       "    </tr>\n",
       "    <tr>\n",
       "      <th>P504595</th>\n",
       "      <td>701</td>\n",
       "      <td>273</td>\n",
       "      <td>1305</td>\n",
       "      <td>0</td>\n",
       "      <td>104</td>\n",
       "    </tr>\n",
       "    <tr>\n",
       "      <th>P504615</th>\n",
       "      <td>739</td>\n",
       "      <td>284</td>\n",
       "      <td>1221</td>\n",
       "      <td>0</td>\n",
       "      <td>78</td>\n",
       "    </tr>\n",
       "    <tr>\n",
       "      <th>P54509</th>\n",
       "      <td>441</td>\n",
       "      <td>188</td>\n",
       "      <td>669</td>\n",
       "      <td>0</td>\n",
       "      <td>68</td>\n",
       "    </tr>\n",
       "    <tr>\n",
       "      <th>P7880</th>\n",
       "      <td>1319</td>\n",
       "      <td>570</td>\n",
       "      <td>2834</td>\n",
       "      <td>0</td>\n",
       "      <td>130</td>\n",
       "    </tr>\n",
       "    <tr>\n",
       "      <th>P94421</th>\n",
       "      <td>664</td>\n",
       "      <td>313</td>\n",
       "      <td>1100</td>\n",
       "      <td>0</td>\n",
       "      <td>114</td>\n",
       "    </tr>\n",
       "  </tbody>\n",
       "</table>\n",
       "<p>249 rows × 5 columns</p>\n",
       "</div>"
      ],
      "text/plain": [
       "skin_tone_grouped  Claro a Medio  Medio a Bronceado  Muy Claro  \\\n",
       "product_id                                                       \n",
       "P114902                      231                120        535   \n",
       "P12045                       294                128        660   \n",
       "P122718                      195                105        393   \n",
       "P122774                      281                124        667   \n",
       "P122882                      257                 92        554   \n",
       "...                          ...                ...        ...   \n",
       "P504595                      701                273       1305   \n",
       "P504615                      739                284       1221   \n",
       "P54509                       441                188        669   \n",
       "P7880                       1319                570       2834   \n",
       "P94421                       664                313       1100   \n",
       "\n",
       "skin_tone_grouped  No Especificado  Oscuro  \n",
       "product_id                                  \n",
       "P114902                          0      27  \n",
       "P12045                           1      26  \n",
       "P122718                          0      18  \n",
       "P122774                          0      15  \n",
       "P122882                          0      18  \n",
       "...                            ...     ...  \n",
       "P504595                          0     104  \n",
       "P504615                          0      78  \n",
       "P54509                           0      68  \n",
       "P7880                            0     130  \n",
       "P94421                           0     114  \n",
       "\n",
       "[249 rows x 5 columns]"
      ]
     },
     "execution_count": 151,
     "metadata": {},
     "output_type": "execute_result"
    }
   ],
   "source": [
    "skin_tone_groups_counts = reviews1.groupby(['product_id', 'skin_tone_grouped']).size().unstack(fill_value=0)\n",
    "skin_tone_groups_counts"
   ]
  },
  {
   "cell_type": "code",
   "execution_count": 153,
   "id": "f0b79de0-4544-4f63-a765-db7c5b1414b2",
   "metadata": {},
   "outputs": [
    {
     "data": {
      "image/png": "[encoded data removed]",
      "text/plain": [
       "<Figure size 1200x800 with 2 Axes>"
      ]
     },
     "metadata": {},
     "output_type": "display_data"
    }
   ],
   "source": [
    "# Heatmap para grupos de tonos de piel\n",
    "plt.figure(figsize=(12, 8))\n",
    "sns.heatmap(skin_tone_groups_counts, cmap='viridis', annot=True, fmt='d')\n",
    "plt.title('Reseñas de Productos por Grupo de Tono de Piel')\n",
    "plt.xlabel('Grupo de Tono de Piel')\n",
    "plt.ylabel('Producto')\n",
    "plt.show()"
   ]
  },
  {
   "cell_type": "markdown",
   "id": "9d48b875-a6f3-41b2-bb7a-8ebe196961b4",
   "metadata": {},
   "source": [
    "#### Size unificar a ml ó gr. Si es de categoría 2, value and gift, size = Pack"
   ]
  },
  {
   "cell_type": "code",
   "execution_count": null,
   "id": "56e8ed21-b435-4564-979b-99944f5ff063",
   "metadata": {},
   "outputs": [],
   "source": []
  },
  {
   "cell_type": "code",
   "execution_count": null,
   "id": "8a118a00-39b7-4d42-a026-f24c5567694e",
   "metadata": {},
   "outputs": [],
   "source": []
  },
  {
   "cell_type": "code",
   "execution_count": null,
   "id": "4913aa22-34b7-4853-8ce5-1f31d1d80d95",
   "metadata": {},
   "outputs": [],
   "source": []
  },
  {
   "cell_type": "code",
   "execution_count": null,
   "id": "dca44a37-3b65-4c86-b7b0-20968d3d4ea4",
   "metadata": {},
   "outputs": [],
   "source": []
  },
  {
   "cell_type": "code",
   "execution_count": null,
   "id": "e9c2b5b5-24fa-41fa-8322-6dd2df804418",
   "metadata": {},
   "outputs": [],
   "source": []
  },
  {
   "cell_type": "code",
   "execution_count": null,
   "id": "a371f4d3-2af0-48fe-b077-a77f9b318e14",
   "metadata": {},
   "outputs": [],
   "source": []
  },
  {
   "cell_type": "code",
   "execution_count": null,
   "id": "b16cee6d-4fa8-4083-922c-1b0a1599a215",
   "metadata": {},
   "outputs": [],
   "source": []
  },
  {
   "cell_type": "code",
   "execution_count": null,
   "id": "c9e1472e-bd3d-4a67-aa18-c96f92612dce",
   "metadata": {},
   "outputs": [],
   "source": []
  },
  {
   "cell_type": "code",
   "execution_count": null,
   "id": "228cd2d1-f845-4640-8f0b-a634a49cd2ee",
   "metadata": {},
   "outputs": [],
   "source": []
  },
  {
   "cell_type": "code",
   "execution_count": 29,
   "id": "4110aa58-ee2a-404b-a46b-d60c78dfc8dd",
   "metadata": {},
   "outputs": [],
   "source": [
    "import plotly.express as px"
   ]
  },
  {
   "cell_type": "code",
   "execution_count": 31,
   "id": "af1efc72-9ac1-490c-9379-34a0fec66fb9",
   "metadata": {},
   "outputs": [
    {
     "data": {
      "application/vnd.plotly.v1+json": {
       "config": {
        "plotlyServerURL": "https://plot.ly"
       },
       "data": [
        {
         "branchvalues": "total",
         "domain": {
          "x": [
           0,
           1
          ],
          "y": [
           0,
           1
          ]
         },
         "hovertemplate": "labels=%{label}<br>size=%{value}<br>parent=%{parent}<br>id=%{id}<extra></extra>",
         "ids": [
          "Tools & Brushes/Hair Tools/Accessories",
          "Hair/Tools/Accessories",
          "Men/Shaving/Aftershave",
          "Skincare/High Tech Tools/Anti-Aging",
          "Skincare/Shop by Concern/Anti-Aging",
          "Makeup/Face/BB & CC Cream",
          "Skincare/Moisturizers/BB & CC Creams",
          "Bath & Body/Bath & Shower/Bath Soaks & Bubble Bath",
          "Skincare/Wellness/Beauty Supplements",
          "Skincare/Treatments/Blemish & Acne Treatments",
          "Makeup/Accessories/Blotting Papers",
          "Skincare/Cleansers/Blotting Papers",
          "Makeup/Cheek/Blush",
          "Bath & Body/Body Moisturizers/Body Lotions & Body Oils",
          "Fragrance/Women/Body Mist & Hair Mist",
          "Men/Other Needs/Body Products",
          "Bath & Body/Sunscreen/Body Sunscreen",
          "Skincare/Sunscreen/Body Sunscreen",
          "Bath & Body/Bath & Shower/Body Wash & Shower Gel",
          "Makeup/Cheek/Bronzer",
          "Makeup/Brushes & Applicators/Brush Cleaners",
          "Makeup/Brushes & Applicators/Brush Sets",
          "Tools & Brushes/Brushes & Applicators/Brush Sets",
          "Tools & Brushes/Hair Tools/Brushes & Combs",
          "Hair/Tools/Brushes & Combs",
          "Fragrance/Candles & Home Scents/Candles",
          "Bath & Body/Body Care/Cellulite & Stretch Marks",
          "Makeup/Cheek/Cheek Palettes",
          "Fragrance/Men/Cologne",
          "Fragrance/Value & Gift Sets/Cologne Gift Sets",
          "Hair/Shop by Concern/Color Care",
          "Makeup/Face/Color Correct",
          "Makeup/Face/Concealer",
          "Hair/Shampoo & Conditioner/Conditioner",
          "Makeup/Face/Contour",
          "Hair/Tools/Curling Irons",
          "Hair/Shop by Concern/Damaged Hair",
          "Skincare/Moisturizers/Decollete & Neck Creams",
          "Bath & Body/Body Care/Deodorant & Antiperspirant",
          "Fragrance/Candles & Home Scents/Diffusers",
          "Hair/Hair Styling & Treatments/Dry Shampoo",
          "Skincare/Cleansers/Exfoliators",
          "Makeup/Brushes & Applicators/Eye Brushes",
          "Tools & Brushes/Brushes & Applicators/Eye Brushes",
          "Men/Skincare/Eye Cream",
          "Skincare/Eye Care/Eye Creams & Treatments",
          "Skincare/Eye Care/Eye Masks",
          "Makeup/Eye/Eye Palettes",
          "Makeup/Eye/Eye Primer",
          "Makeup/Eye/Eye Sets",
          "Makeup/Eye/Eyebrow",
          "Makeup/Accessories/Eyelash Curlers",
          "Tools & Brushes/Beauty Tools/Eyelash Curlers",
          "Makeup/Eye/Eyeliner",
          "Makeup/Eye/Eyeshadow",
          "Makeup/Brushes & Applicators/Face Brushes",
          "Tools & Brushes/Brushes & Applicators/Face Brushes",
          "Skincare/Masks/Face Masks",
          "Skincare/Moisturizers/Face Oils",
          "Makeup/Face/Face Primer",
          "Skincare/Treatments/Face Serums",
          "Makeup/Face/Face Sets",
          "Skincare/Sunscreen/Face Sunscreen",
          "Men/Skincare/Face Wash",
          "Skincare/Cleansers/Face Wash & Cleansers",
          "Skincare/Cleansers/Face Wipes",
          "Tools & Brushes/Brushes & Applicators/Facial Cleansing Brushes",
          "Skincare/High Tech Tools/Facial Cleansing Brushes",
          "Skincare/Treatments/Facial Peels",
          "Skincare/Wellness/Facial Rollers",
          "Makeup/Eye/False Eyelashes",
          "Bath & Body/Self Tanners/For Body",
          "Skincare/Self Tanners/For Body",
          "Bath & Body/Self Tanners/For Face",
          "Skincare/Self Tanners/For Face",
          "Makeup/Face/Foundation",
          "Hair/Tools/Hair Dryers",
          "Hair/Hair Styling & Treatments/Hair Dye & Root Touch-Ups",
          "Hair/Hair Styling & Treatments/Hair Masks",
          "Hair/Hair Styling & Treatments/Hair Oil",
          "Hair/Hair Styling & Treatments/Hair Primers",
          "Skincare/High Tech Tools/Hair Removal",
          "Hair/Hair Styling & Treatments/Hair Spray",
          "Tools & Brushes/Hair Tools/Hair Straighteners & Flat Irons",
          "Hair/Tools/Hair Straighteners & Flat Irons",
          "Hair/Hair Styling & Treatments/Hair Styling Products",
          "Hair/Hair Styling & Treatments/Hair Supplements",
          "Hair/Hair Styling & Treatments/Hair Thinning & Hair Loss",
          "Bath & Body/Body Moisturizers/Hand Cream & Foot Cream",
          "Bath & Body/Body Care/Hand Sanitizer & Hand Soap",
          "Makeup/Face/Highlighter",
          "Skincare/Wellness/Holistic Wellness",
          "Bath & Body/Body Care/Intimate Care",
          "Hair/Hair Styling & Treatments/Leave-In Conditioner",
          "Makeup/Lip/Lip Balm & Treatment",
          "Makeup/Brushes & Applicators/Lip Brushes",
          "Makeup/Lip/Lip Gloss",
          "Makeup/Lip/Lip Liner",
          "Makeup/Lip/Lip Plumper",
          "Makeup/Lip/Lip Sets",
          "Makeup/Lip/Lip Stain",
          "Makeup/Lip/Lipstick",
          "Makeup/Lip/Liquid Lipstick",
          "Tools & Brushes/Beauty Accessories/Makeup & Travel Cases",
          "Makeup/Accessories/Makeup Bags & Travel Cases",
          "Makeup/Accessories/Makeup Removers",
          "Skincare/Cleansers/Makeup Removers",
          "Tools & Brushes/Beauty Tools/Manicure & Pedicure Tools",
          "Makeup/Eye/Mascara",
          "Skincare/Moisturizers/Mists & Essences",
          "Men/Skincare/Moisturizer & Treatments",
          "Skincare/Moisturizers/Moisturizers",
          "Skincare/Moisturizers/Night Creams",
          "Fragrance/Women/Perfume",
          "Fragrance/Value & Gift Sets/Perfume Gift Sets",
          "Fragrance/Women/Rollerballs & Travel Size",
          "Hair/Hair Styling & Treatments/Scalp Treatments",
          "Bath & Body/Bath & Shower/Scrub & Exfoliants",
          "Makeup/Face/Setting Spray & Powder",
          "Hair/Shampoo & Conditioner/Shampoo",
          "Men/Hair/Shampoo & Conditioner",
          "Tools & Brushes/Beauty Tools/Sharpeners",
          "Men/Shaving/Shaving",
          "Skincare/Masks/Sheet Masks",
          "Men/Value & Gift Sets/Skincare Sets",
          "Makeup/Brushes & Applicators/Sponges & Applicators",
          "Tools & Brushes/Brushes & Applicators/Sponges & Applicators",
          "Men/Skincare/Sunscreen",
          "Tools & Brushes/Beauty Tools/Teeth Whitening",
          "Skincare/High Tech Tools/Teeth Whitening",
          "Makeup/Face/Tinted Moisturizer",
          "Skincare/Cleansers/Toners",
          "Makeup/Accessories/Tweezers & Eyebrow Tools",
          "Tools & Brushes/Beauty Tools/Tweezers & Eyebrow Tools",
          "Makeup/Eye/Under-Eye Concealer",
          "Makeup/Accessories",
          "Bath & Body/Bath & Shower",
          "Tools & Brushes/Beauty Accessories",
          "Tools & Brushes/Beauty Tools",
          "Bath & Body/Body Care",
          "Bath & Body/Body Moisturizers",
          "Makeup/Brushes & Applicators",
          "Tools & Brushes/Brushes & Applicators",
          "Fragrance/Candles & Home Scents",
          "Makeup/Cheek",
          "Skincare/Cleansers",
          "Makeup/Eye",
          "Skincare/Eye Care",
          "Makeup/Face",
          "Men/Hair",
          "Hair/Hair Styling & Treatments",
          "Tools & Brushes/Hair Tools",
          "Skincare/High Tech Tools",
          "Makeup/Lip",
          "Skincare/Masks",
          "Fragrance/Men",
          "Skincare/Moisturizers",
          "Men/Other Needs",
          "Bath & Body/Self Tanners",
          "Skincare/Self Tanners",
          "Hair/Shampoo & Conditioner",
          "Men/Shaving",
          "Hair/Shop by Concern",
          "Skincare/Shop by Concern",
          "Men/Skincare",
          "Bath & Body/Sunscreen",
          "Skincare/Sunscreen",
          "Hair/Tools",
          "Skincare/Treatments",
          "Fragrance/Value & Gift Sets",
          "Men/Value & Gift Sets",
          "Skincare/Wellness",
          "Fragrance/Women",
          "Bath & Body",
          "Fragrance",
          "Hair",
          "Makeup",
          "Men",
          "Skincare",
          "Tools & Brushes"
         ],
         "labels": [
          "Accessories",
          "Accessories",
          "Aftershave",
          "Anti-Aging",
          "Anti-Aging",
          "BB & CC Cream",
          "BB & CC Creams",
          "Bath Soaks & Bubble Bath",
          "Beauty Supplements",
          "Blemish & Acne Treatments",
          "Blotting Papers",
          "Blotting Papers",
          "Blush",
          "Body Lotions & Body Oils",
          "Body Mist & Hair Mist",
          "Body Products",
          "Body Sunscreen",
          "Body Sunscreen",
          "Body Wash & Shower Gel",
          "Bronzer",
          "Brush Cleaners",
          "Brush Sets",
          "Brush Sets",
          "Brushes & Combs",
          "Brushes & Combs",
          "Candles",
          "Cellulite & Stretch Marks",
          "Cheek Palettes",
          "Cologne",
          "Cologne Gift Sets",
          "Color Care",
          "Color Correct",
          "Concealer",
          "Conditioner",
          "Contour",
          "Curling Irons",
          "Damaged Hair",
          "Decollete & Neck Creams",
          "Deodorant & Antiperspirant",
          "Diffusers",
          "Dry Shampoo",
          "Exfoliators",
          "Eye Brushes",
          "Eye Brushes",
          "Eye Cream",
          "Eye Creams & Treatments",
          "Eye Masks",
          "Eye Palettes",
          "Eye Primer",
          "Eye Sets",
          "Eyebrow",
          "Eyelash Curlers",
          "Eyelash Curlers",
          "Eyeliner",
          "Eyeshadow",
          "Face Brushes",
          "Face Brushes",
          "Face Masks",
          "Face Oils",
          "Face Primer",
          "Face Serums",
          "Face Sets",
          "Face Sunscreen",
          "Face Wash",
          "Face Wash & Cleansers",
          "Face Wipes",
          "Facial Cleansing Brushes",
          "Facial Cleansing Brushes",
          "Facial Peels",
          "Facial Rollers",
          "False Eyelashes",
          "For Body",
          "For Body",
          "For Face",
          "For Face",
          "Foundation",
          "Hair Dryers",
          "Hair Dye & Root Touch-Ups",
          "Hair Masks",
          "Hair Oil",
          "Hair Primers",
          "Hair Removal",
          "Hair Spray",
          "Hair Straighteners & Flat Irons",
          "Hair Straighteners & Flat Irons",
          "Hair Styling Products",
          "Hair Supplements",
          "Hair Thinning & Hair Loss",
          "Hand Cream & Foot Cream",
          "Hand Sanitizer & Hand Soap",
          "Highlighter",
          "Holistic Wellness",
          "Intimate Care",
          "Leave-In Conditioner",
          "Lip Balm & Treatment",
          "Lip Brushes",
          "Lip Gloss",
          "Lip Liner",
          "Lip Plumper",
          "Lip Sets",
          "Lip Stain",
          "Lipstick",
          "Liquid Lipstick",
          "Makeup & Travel Cases",
          "Makeup Bags & Travel Cases",
          "Makeup Removers",
          "Makeup Removers",
          "Manicure & Pedicure Tools",
          "Mascara",
          "Mists & Essences",
          "Moisturizer & Treatments",
          "Moisturizers",
          "Night Creams",
          "Perfume",
          "Perfume Gift Sets",
          "Rollerballs & Travel Size",
          "Scalp Treatments",
          "Scrub & Exfoliants",
          "Setting Spray & Powder",
          "Shampoo",
          "Shampoo & Conditioner",
          "Sharpeners",
          "Shaving",
          "Sheet Masks",
          "Skincare Sets",
          "Sponges & Applicators",
          "Sponges & Applicators",
          "Sunscreen",
          "Teeth Whitening",
          "Teeth Whitening",
          "Tinted Moisturizer",
          "Toners",
          "Tweezers & Eyebrow Tools",
          "Tweezers & Eyebrow Tools",
          "Under-Eye Concealer",
          "Accessories",
          "Bath & Shower",
          "Beauty Accessories",
          "Beauty Tools",
          "Body Care",
          "Body Moisturizers",
          "Brushes & Applicators",
          "Brushes & Applicators",
          "Candles & Home Scents",
          "Cheek",
          "Cleansers",
          "Eye",
          "Eye Care",
          "Face",
          "Hair",
          "Hair Styling & Treatments",
          "Hair Tools",
          "High Tech Tools",
          "Lip",
          "Masks",
          "Men",
          "Moisturizers",
          "Other Needs",
          "Self Tanners",
          "Self Tanners",
          "Shampoo & Conditioner",
          "Shaving",
          "Shop by Concern",
          "Shop by Concern",
          "Skincare",
          "Sunscreen",
          "Sunscreen",
          "Tools",
          "Treatments",
          "Value & Gift Sets",
          "Value & Gift Sets",
          "Wellness",
          "Women",
          "Bath & Body",
          "Fragrance",
          "Hair",
          "Makeup",
          "Men",
          "Skincare",
          "Tools & Brushes"
         ],
         "name": "",
         "parents": [
          "Tools & Brushes/Hair Tools",
          "Hair/Tools",
          "Men/Shaving",
          "Skincare/High Tech Tools",
          "Skincare/Shop by Concern",
          "Makeup/Face",
          "Skincare/Moisturizers",
          "Bath & Body/Bath & Shower",
          "Skincare/Wellness",
          "Skincare/Treatments",
          "Makeup/Accessories",
          "Skincare/Cleansers",
          "Makeup/Cheek",
          "Bath & Body/Body Moisturizers",
          "Fragrance/Women",
          "Men/Other Needs",
          "Bath & Body/Sunscreen",
          "Skincare/Sunscreen",
          "Bath & Body/Bath & Shower",
          "Makeup/Cheek",
          "Makeup/Brushes & Applicators",
          "Makeup/Brushes & Applicators",
          "Tools & Brushes/Brushes & Applicators",
          "Tools & Brushes/Hair Tools",
          "Hair/Tools",
          "Fragrance/Candles & Home Scents",
          "Bath & Body/Body Care",
          "Makeup/Cheek",
          "Fragrance/Men",
          "Fragrance/Value & Gift Sets",
          "Hair/Shop by Concern",
          "Makeup/Face",
          "Makeup/Face",
          "Hair/Shampoo & Conditioner",
          "Makeup/Face",
          "Hair/Tools",
          "Hair/Shop by Concern",
          "Skincare/Moisturizers",
          "Bath & Body/Body Care",
          "Fragrance/Candles & Home Scents",
          "Hair/Hair Styling & Treatments",
          "Skincare/Cleansers",
          "Makeup/Brushes & Applicators",
          "Tools & Brushes/Brushes & Applicators",
          "Men/Skincare",
          "Skincare/Eye Care",
          "Skincare/Eye Care",
          "Makeup/Eye",
          "Makeup/Eye",
          "Makeup/Eye",
          "Makeup/Eye",
          "Makeup/Accessories",
          "Tools & Brushes/Beauty Tools",
          "Makeup/Eye",
          "Makeup/Eye",
          "Makeup/Brushes & Applicators",
          "Tools & Brushes/Brushes & Applicators",
          "Skincare/Masks",
          "Skincare/Moisturizers",
          "Makeup/Face",
          "Skincare/Treatments",
          "Makeup/Face",
          "Skincare/Sunscreen",
          "Men/Skincare",
          "Skincare/Cleansers",
          "Skincare/Cleansers",
          "Tools & Brushes/Brushes & Applicators",
          "Skincare/High Tech Tools",
          "Skincare/Treatments",
          "Skincare/Wellness",
          "Makeup/Eye",
          "Bath & Body/Self Tanners",
          "Skincare/Self Tanners",
          "Bath & Body/Self Tanners",
          "Skincare/Self Tanners",
          "Makeup/Face",
          "Hair/Tools",
          "Hair/Hair Styling & Treatments",
          "Hair/Hair Styling & Treatments",
          "Hair/Hair Styling & Treatments",
          "Hair/Hair Styling & Treatments",
          "Skincare/High Tech Tools",
          "Hair/Hair Styling & Treatments",
          "Tools & Brushes/Hair Tools",
          "Hair/Tools",
          "Hair/Hair Styling & Treatments",
          "Hair/Hair Styling & Treatments",
          "Hair/Hair Styling & Treatments",
          "Bath & Body/Body Moisturizers",
          "Bath & Body/Body Care",
          "Makeup/Face",
          "Skincare/Wellness",
          "Bath & Body/Body Care",
          "Hair/Hair Styling & Treatments",
          "Makeup/Lip",
          "Makeup/Brushes & Applicators",
          "Makeup/Lip",
          "Makeup/Lip",
          "Makeup/Lip",
          "Makeup/Lip",
          "Makeup/Lip",
          "Makeup/Lip",
          "Makeup/Lip",
          "Tools & Brushes/Beauty Accessories",
          "Makeup/Accessories",
          "Makeup/Accessories",
          "Skincare/Cleansers",
          "Tools & Brushes/Beauty Tools",
          "Makeup/Eye",
          "Skincare/Moisturizers",
          "Men/Skincare",
          "Skincare/Moisturizers",
          "Skincare/Moisturizers",
          "Fragrance/Women",
          "Fragrance/Value & Gift Sets",
          "Fragrance/Women",
          "Hair/Hair Styling & Treatments",
          "Bath & Body/Bath & Shower",
          "Makeup/Face",
          "Hair/Shampoo & Conditioner",
          "Men/Hair",
          "Tools & Brushes/Beauty Tools",
          "Men/Shaving",
          "Skincare/Masks",
          "Men/Value & Gift Sets",
          "Makeup/Brushes & Applicators",
          "Tools & Brushes/Brushes & Applicators",
          "Men/Skincare",
          "Tools & Brushes/Beauty Tools",
          "Skincare/High Tech Tools",
          "Makeup/Face",
          "Skincare/Cleansers",
          "Makeup/Accessories",
          "Tools & Brushes/Beauty Tools",
          "Makeup/Eye",
          "Makeup",
          "Bath & Body",
          "Tools & Brushes",
          "Tools & Brushes",
          "Bath & Body",
          "Bath & Body",
          "Makeup",
          "Tools & Brushes",
          "Fragrance",
          "Makeup",
          "Skincare",
          "Makeup",
          "Skincare",
          "Makeup",
          "Men",
          "Hair",
          "Tools & Brushes",
          "Skincare",
          "Makeup",
          "Skincare",
          "Fragrance",
          "Skincare",
          "Men",
          "Bath & Body",
          "Skincare",
          "Hair",
          "Men",
          "Hair",
          "Skincare",
          "Men",
          "Bath & Body",
          "Skincare",
          "Hair",
          "Skincare",
          "Fragrance",
          "Men",
          "Skincare",
          "Fragrance",
          "",
          "",
          "",
          "",
          "",
          "",
          ""
         ],
         "type": "treemap",
         "values": [
          2,
          30,
          5,
          49,
          1,
          10,
          4,
          7,
          44,
          37,
          3,
          4,
          92,
          197,
          20,
          5,
          1,
          10,
          51,
          58,
          13,
          13,
          1,
          7,
          45,
          193,
          8,
          15,
          135,
          12,
          3,
          10,
          84,
          193,
          23,
          27,
          1,
          10,
          25,
          65,
          41,
          41,
          53,
          1,
          6,
          172,
          14,
          135,
          19,
          18,
          132,
          6,
          3,
          119,
          66,
          118,
          3,
          134,
          66,
          118,
          379,
          18,
          95,
          9,
          217,
          6,
          3,
          13,
          50,
          25,
          52,
          4,
          34,
          1,
          18,
          157,
          26,
          5,
          120,
          65,
          43,
          10,
          28,
          2,
          25,
          255,
          19,
          2,
          22,
          7,
          96,
          10,
          28,
          59,
          86,
          3,
          69,
          39,
          15,
          15,
          6,
          161,
          19,
          5,
          5,
          26,
          10,
          1,
          166,
          67,
          15,
          386,
          17,
          568,
          136,
          287,
          120,
          26,
          125,
          238,
          3,
          6,
          10,
          32,
          4,
          28,
          5,
          2,
          2,
          5,
          18,
          80,
          4,
          10,
          3,
          44,
          84,
          5,
          22,
          68,
          219,
          228,
          13,
          258,
          165,
          358,
          710,
          186,
          659,
          3,
          757,
          11,
          77,
          410,
          166,
          135,
          550,
          5,
          5,
          52,
          431,
          15,
          4,
          1,
          32,
          1,
          105,
          153,
          466,
          148,
          4,
          79,
          875,
          377,
          1416,
          1345,
          2216,
          59,
          2040,
          51
         ]
        }
       ],
       "layout": {
        "autosize": true,
        "legend": {
         "tracegroupgap": 0
        },
        "margin": {
         "b": 25,
         "l": 25,
         "r": 25,
         "t": 50
        },
        "template": {
         "data": {
          "bar": [
           {
            "error_x": {
             "color": "#2a3f5f"
            },
            "error_y": {
             "color": "#2a3f5f"
            },
            "marker": {
             "line": {
              "color": "#E5ECF6",
              "width": 0.5
             },
             "pattern": {
              "fillmode": "overlay",
              "size": 10,
              "solidity": 0.2
             }
            },
            "type": "bar"
           }
          ],
          "barpolar": [
           {
            "marker": {
             "line": {
              "color": "#E5ECF6",
              "width": 0.5
             },
             "pattern": {
              "fillmode": "overlay",
              "size": 10,
              "solidity": 0.2
             }
            },
            "type": "barpolar"
           }
          ],
          "carpet": [
           {
            "aaxis": {
             "endlinecolor": "#2a3f5f",
             "gridcolor": "white",
             "linecolor": "white",
             "minorgridcolor": "white",
             "startlinecolor": "#2a3f5f"
            },
            "baxis": {
             "endlinecolor": "#2a3f5f",
             "gridcolor": "white",
             "linecolor": "white",
             "minorgridcolor": "white",
             "startlinecolor": "#2a3f5f"
            },
            "type": "carpet"
           }
          ],
          "choropleth": [
           {
            "colorbar": {
             "outlinewidth": 0,
             "ticks": ""
            },
            "type": "choropleth"
           }
          ],
          "contour": [
           {
            "colorbar": {
             "outlinewidth": 0,
             "ticks": ""
            },
            "colorscale": [
             [
              0,
              "#0d0887"
             ],
             [
              0.1111111111111111,
              "#46039f"
             ],
             [
              0.2222222222222222,
              "#7201a8"
             ],
             [
              0.3333333333333333,
              "#9c179e"
             ],
             [
              0.4444444444444444,
              "#bd3786"
             ],
             [
              0.5555555555555556,
              "#d8576b"
             ],
             [
              0.6666666666666666,
              "#ed7953"
             ],
             [
              0.7777777777777778,
              "#fb9f3a"
             ],
             [
              0.8888888888888888,
              "#fdca26"
             ],
             [
              1,
              "#f0f921"
             ]
            ],
            "type": "contour"
           }
          ],
          "contourcarpet": [
           {
            "colorbar": {
             "outlinewidth": 0,
             "ticks": ""
            },
            "type": "contourcarpet"
           }
          ],
          "heatmap": [
           {
            "colorbar": {
             "outlinewidth": 0,
             "ticks": ""
            },
            "colorscale": [
             [
              0,
              "#0d0887"
             ],
             [
              0.1111111111111111,
              "#46039f"
             ],
             [
              0.2222222222222222,
              "#7201a8"
             ],
             [
              0.3333333333333333,
              "#9c179e"
             ],
             [
              0.4444444444444444,
              "#bd3786"
             ],
             [
              0.5555555555555556,
              "#d8576b"
             ],
             [
              0.6666666666666666,
              "#ed7953"
             ],
             [
              0.7777777777777778,
              "#fb9f3a"
             ],
             [
              0.8888888888888888,
              "#fdca26"
             ],
             [
              1,
              "#f0f921"
             ]
            ],
            "type": "heatmap"
           }
          ],
          "heatmapgl": [
           {
            "colorbar": {
             "outlinewidth": 0,
             "ticks": ""
            },
            "colorscale": [
             [
              0,
              "#0d0887"
             ],
             [
              0.1111111111111111,
              "#46039f"
             ],
             [
              0.2222222222222222,
              "#7201a8"
             ],
             [
              0.3333333333333333,
              "#9c179e"
             ],
             [
              0.4444444444444444,
              "#bd3786"
             ],
             [
              0.5555555555555556,
              "#d8576b"
             ],
             [
              0.6666666666666666,
              "#ed7953"
             ],
             [
              0.7777777777777778,
              "#fb9f3a"
             ],
             [
              0.8888888888888888,
              "#fdca26"
             ],
             [
              1,
              "#f0f921"
             ]
            ],
            "type": "heatmapgl"
           }
          ],
          "histogram": [
           {
            "marker": {
             "pattern": {
              "fillmode": "overlay",
              "size": 10,
              "solidity": 0.2
             }
            },
            "type": "histogram"
           }
          ],
          "histogram2d": [
           {
            "colorbar": {
             "outlinewidth": 0,
             "ticks": ""
            },
            "colorscale": [
             [
              0,
              "#0d0887"
             ],
             [
              0.1111111111111111,
              "#46039f"
             ],
             [
              0.2222222222222222,
              "#7201a8"
             ],
             [
              0.3333333333333333,
              "#9c179e"
             ],
             [
              0.4444444444444444,
              "#bd3786"
             ],
             [
              0.5555555555555556,
              "#d8576b"
             ],
             [
              0.6666666666666666,
              "#ed7953"
             ],
             [
              0.7777777777777778,
              "#fb9f3a"
             ],
             [
              0.8888888888888888,
              "#fdca26"
             ],
             [
              1,
              "#f0f921"
             ]
            ],
            "type": "histogram2d"
           }
          ],
          "histogram2dcontour": [
           {
            "colorbar": {
             "outlinewidth": 0,
             "ticks": ""
            },
            "colorscale": [
             [
              0,
              "#0d0887"
             ],
             [
              0.1111111111111111,
              "#46039f"
             ],
             [
              0.2222222222222222,
              "#7201a8"
             ],
             [
              0.3333333333333333,
              "#9c179e"
             ],
             [
              0.4444444444444444,
              "#bd3786"
             ],
             [
              0.5555555555555556,
              "#d8576b"
             ],
             [
              0.6666666666666666,
              "#ed7953"
             ],
             [
              0.7777777777777778,
              "#fb9f3a"
             ],
             [
              0.8888888888888888,
              "#fdca26"
             ],
             [
              1,
              "#f0f921"
             ]
            ],
            "type": "histogram2dcontour"
           }
          ],
          "mesh3d": [
           {
            "colorbar": {
             "outlinewidth": 0,
             "ticks": ""
            },
            "type": "mesh3d"
           }
          ],
          "parcoords": [
           {
            "line": {
             "colorbar": {
              "outlinewidth": 0,
              "ticks": ""
             }
            },
            "type": "parcoords"
           }
          ],
          "pie": [
           {
            "automargin": true,
            "type": "pie"
           }
          ],
          "scatter": [
           {
            "fillpattern": {
             "fillmode": "overlay",
             "size": 10,
             "solidity": 0.2
            },
            "type": "scatter"
           }
          ],
          "scatter3d": [
           {
            "line": {
             "colorbar": {
              "outlinewidth": 0,
              "ticks": ""
             }
            },
            "marker": {
             "colorbar": {
              "outlinewidth": 0,
              "ticks": ""
             }
            },
            "type": "scatter3d"
           }
          ],
          "scattercarpet": [
           {
            "marker": {
             "colorbar": {
              "outlinewidth": 0,
              "ticks": ""
             }
            },
            "type": "scattercarpet"
           }
          ],
          "scattergeo": [
           {
            "marker": {
             "colorbar": {
              "outlinewidth": 0,
              "ticks": ""
             }
            },
            "type": "scattergeo"
           }
          ],
          "scattergl": [
           {
            "marker": {
             "colorbar": {
              "outlinewidth": 0,
              "ticks": ""
             }
            },
            "type": "scattergl"
           }
          ],
          "scattermapbox": [
           {
            "marker": {
             "colorbar": {
              "outlinewidth": 0,
              "ticks": ""
             }
            },
            "type": "scattermapbox"
           }
          ],
          "scatterpolar": [
           {
            "marker": {
             "colorbar": {
              "outlinewidth": 0,
              "ticks": ""
             }
            },
            "type": "scatterpolar"
           }
          ],
          "scatterpolargl": [
           {
            "marker": {
             "colorbar": {
              "outlinewidth": 0,
              "ticks": ""
             }
            },
            "type": "scatterpolargl"
           }
          ],
          "scatterternary": [
           {
            "marker": {
             "colorbar": {
              "outlinewidth": 0,
              "ticks": ""
             }
            },
            "type": "scatterternary"
           }
          ],
          "surface": [
           {
            "colorbar": {
             "outlinewidth": 0,
             "ticks": ""
            },
            "colorscale": [
             [
              0,
              "#0d0887"
             ],
             [
              0.1111111111111111,
              "#46039f"
             ],
             [
              0.2222222222222222,
              "#7201a8"
             ],
             [
              0.3333333333333333,
              "#9c179e"
             ],
             [
              0.4444444444444444,
              "#bd3786"
             ],
             [
              0.5555555555555556,
              "#d8576b"
             ],
             [
              0.6666666666666666,
              "#ed7953"
             ],
             [
              0.7777777777777778,
              "#fb9f3a"
             ],
             [
              0.8888888888888888,
              "#fdca26"
             ],
             [
              1,
              "#f0f921"
             ]
            ],
            "type": "surface"
           }
          ],
          "table": [
           {
            "cells": {
             "fill": {
              "color": "#EBF0F8"
             },
             "line": {
              "color": "white"
             }
            },
            "header": {
             "fill": {
              "color": "#C8D4E3"
             },
             "line": {
              "color": "white"
             }
            },
            "type": "table"
           }
          ]
         },
         "layout": {
          "annotationdefaults": {
           "arrowcolor": "#2a3f5f",
           "arrowhead": 0,
           "arrowwidth": 1
          },
          "autotypenumbers": "strict",
          "coloraxis": {
           "colorbar": {
            "outlinewidth": 0,
            "ticks": ""
           }
          },
          "colorscale": {
           "diverging": [
            [
             0,
             "#8e0152"
            ],
            [
             0.1,
             "#c51b7d"
            ],
            [
             0.2,
             "#de77ae"
            ],
            [
             0.3,
             "#f1b6da"
            ],
            [
             0.4,
             "#fde0ef"
            ],
            [
             0.5,
             "#f7f7f7"
            ],
            [
             0.6,
             "#e6f5d0"
            ],
            [
             0.7,
             "#b8e186"
            ],
            [
             0.8,
             "#7fbc41"
            ],
            [
             0.9,
             "#4d9221"
            ],
            [
             1,
             "#276419"
            ]
           ],
           "sequential": [
            [
             0,
             "#0d0887"
            ],
            [
             0.1111111111111111,
             "#46039f"
            ],
            [
             0.2222222222222222,
             "#7201a8"
            ],
            [
             0.3333333333333333,
             "#9c179e"
            ],
            [
             0.4444444444444444,
             "#bd3786"
            ],
            [
             0.5555555555555556,
             "#d8576b"
            ],
            [
             0.6666666666666666,
             "#ed7953"
            ],
            [
             0.7777777777777778,
             "#fb9f3a"
            ],
            [
             0.8888888888888888,
             "#fdca26"
            ],
            [
             1,
             "#f0f921"
            ]
           ],
           "sequentialminus": [
            [
             0,
             "#0d0887"
            ],
            [
             0.1111111111111111,
             "#46039f"
            ],
            [
             0.2222222222222222,
             "#7201a8"
            ],
            [
             0.3333333333333333,
             "#9c179e"
            ],
            [
             0.4444444444444444,
             "#bd3786"
            ],
            [
             0.5555555555555556,
             "#d8576b"
            ],
            [
             0.6666666666666666,
             "#ed7953"
            ],
            [
             0.7777777777777778,
             "#fb9f3a"
            ],
            [
             0.8888888888888888,
             "#fdca26"
            ],
            [
             1,
             "#f0f921"
            ]
           ]
          },
          "colorway": [
           "#636efa",
           "#EF553B",
           "#00cc96",
           "#ab63fa",
           "#FFA15A",
           "#19d3f3",
           "#FF6692",
           "#B6E880",
           "#FF97FF",
           "#FECB52"
          ],
          "font": {
           "color": "#2a3f5f"
          },
          "geo": {
           "bgcolor": "white",
           "lakecolor": "white",
           "landcolor": "#E5ECF6",
           "showlakes": true,
           "showland": true,
           "subunitcolor": "white"
          },
          "hoverlabel": {
           "align": "left"
          },
          "hovermode": "closest",
          "mapbox": {
           "style": "light"
          },
          "paper_bgcolor": "white",
          "plot_bgcolor": "#E5ECF6",
          "polar": {
           "angularaxis": {
            "gridcolor": "white",
            "linecolor": "white",
            "ticks": ""
           },
           "bgcolor": "#E5ECF6",
           "radialaxis": {
            "gridcolor": "white",
            "linecolor": "white",
            "ticks": ""
           }
          },
          "scene": {
           "xaxis": {
            "backgroundcolor": "#E5ECF6",
            "gridcolor": "white",
            "gridwidth": 2,
            "linecolor": "white",
            "showbackground": true,
            "ticks": "",
            "zerolinecolor": "white"
           },
           "yaxis": {
            "backgroundcolor": "#E5ECF6",
            "gridcolor": "white",
            "gridwidth": 2,
            "linecolor": "white",
            "showbackground": true,
            "ticks": "",
            "zerolinecolor": "white"
           },
           "zaxis": {
            "backgroundcolor": "#E5ECF6",
            "gridcolor": "white",
            "gridwidth": 2,
            "linecolor": "white",
            "showbackground": true,
            "ticks": "",
            "zerolinecolor": "white"
           }
          },
          "shapedefaults": {
           "line": {
            "color": "#2a3f5f"
           }
          },
          "ternary": {
           "aaxis": {
            "gridcolor": "white",
            "linecolor": "white",
            "ticks": ""
           },
           "baxis": {
            "gridcolor": "white",
            "linecolor": "white",
            "ticks": ""
           },
           "bgcolor": "#E5ECF6",
           "caxis": {
            "gridcolor": "white",
            "linecolor": "white",
            "ticks": ""
           }
          },
          "title": {
           "x": 0.05
          },
          "xaxis": {
           "automargin": true,
           "gridcolor": "white",
           "linecolor": "white",
           "ticks": "",
           "title": {
            "standoff": 15
           },
           "zerolinecolor": "white",
           "zerolinewidth": 2
          },
          "yaxis": {
           "automargin": true,
           "gridcolor": "white",
           "linecolor": "white",
           "ticks": "",
           "title": {
            "standoff": 15
           },
           "zerolinecolor": "white",
           "zerolinewidth": 2
          }
         }
        },
        "title": {
         "text": "Tree Map of Sephora Product Categories"
        }
       }
      },
      "image/png": "[encoded data removed]",
      "text/html": [
       "<div>                            <div id=\"2f5a48fd-4400-4959-852e-74eba5c4a315\" class=\"plotly-graph-div\" style=\"height:525px; width:100%;\"></div>            <script type=\"text/javascript\">                require([\"plotly\"], function(Plotly) {                    window.PLOTLYENV=window.PLOTLYENV || {};                                    if (document.getElementById(\"2f5a48fd-4400-4959-852e-74eba5c4a315\")) {                    Plotly.newPlot(                        \"2f5a48fd-4400-4959-852e-74eba5c4a315\",                        [{\"branchvalues\":\"total\",\"domain\":{\"x\":[0.0,1.0],\"y\":[0.0,1.0]},\"hovertemplate\":\"labels=%{label}\\u003cbr\\u003esize=%{value}\\u003cbr\\u003eparent=%{parent}\\u003cbr\\u003eid=%{id}\\u003cextra\\u003e\\u003c\\u002fextra\\u003e\",\"ids\":[\"Tools & Brushes\\u002fHair Tools\\u002fAccessories\",\"Hair\\u002fTools\\u002fAccessories\",\"Men\\u002fShaving\\u002fAftershave\",\"Skincare\\u002fHigh Tech Tools\\u002fAnti-Aging\",\"Skincare\\u002fShop by Concern\\u002fAnti-Aging\",\"Makeup\\u002fFace\\u002fBB & CC Cream\",\"Skincare\\u002fMoisturizers\\u002fBB & CC Creams\",\"Bath & Body\\u002fBath & Shower\\u002fBath Soaks & Bubble Bath\",\"Skincare\\u002fWellness\\u002fBeauty Supplements\",\"Skincare\\u002fTreatments\\u002fBlemish & Acne Treatments\",\"Makeup\\u002fAccessories\\u002fBlotting Papers\",\"Skincare\\u002fCleansers\\u002fBlotting Papers\",\"Makeup\\u002fCheek\\u002fBlush\",\"Bath & Body\\u002fBody Moisturizers\\u002fBody Lotions & Body Oils\",\"Fragrance\\u002fWomen\\u002fBody Mist & Hair Mist\",\"Men\\u002fOther Needs\\u002fBody Products\",\"Bath & Body\\u002fSunscreen\\u002fBody Sunscreen\",\"Skincare\\u002fSunscreen\\u002fBody Sunscreen\",\"Bath & Body\\u002fBath & Shower\\u002fBody Wash & Shower Gel\",\"Makeup\\u002fCheek\\u002fBronzer\",\"Makeup\\u002fBrushes & Applicators\\u002fBrush Cleaners\",\"Makeup\\u002fBrushes & Applicators\\u002fBrush Sets\",\"Tools & Brushes\\u002fBrushes & Applicators\\u002fBrush Sets\",\"Tools & Brushes\\u002fHair Tools\\u002fBrushes & Combs\",\"Hair\\u002fTools\\u002fBrushes & Combs\",\"Fragrance\\u002fCandles & Home Scents\\u002fCandles\",\"Bath & Body\\u002fBody Care\\u002fCellulite & Stretch Marks\",\"Makeup\\u002fCheek\\u002fCheek Palettes\",\"Fragrance\\u002fMen\\u002fCologne\",\"Fragrance\\u002fValue & Gift Sets\\u002fCologne Gift Sets\",\"Hair\\u002fShop by Concern\\u002fColor Care\",\"Makeup\\u002fFace\\u002fColor Correct\",\"Makeup\\u002fFace\\u002fConcealer\",\"Hair\\u002fShampoo & Conditioner\\u002fConditioner\",\"Makeup\\u002fFace\\u002fContour\",\"Hair\\u002fTools\\u002fCurling Irons\",\"Hair\\u002fShop by Concern\\u002fDamaged Hair\",\"Skincare\\u002fMoisturizers\\u002fDecollete & Neck Creams\",\"Bath & Body\\u002fBody Care\\u002fDeodorant & Antiperspirant\",\"Fragrance\\u002fCandles & Home Scents\\u002fDiffusers\",\"Hair\\u002fHair Styling & Treatments\\u002fDry Shampoo\",\"Skincare\\u002fCleansers\\u002fExfoliators\",\"Makeup\\u002fBrushes & Applicators\\u002fEye Brushes\",\"Tools & Brushes\\u002fBrushes & Applicators\\u002fEye Brushes\",\"Men\\u002fSkincare\\u002fEye Cream\",\"Skincare\\u002fEye Care\\u002fEye Creams & Treatments\",\"Skincare\\u002fEye Care\\u002fEye Masks\",\"Makeup\\u002fEye\\u002fEye Palettes\",\"Makeup\\u002fEye\\u002fEye Primer\",\"Makeup\\u002fEye\\u002fEye Sets\",\"Makeup\\u002fEye\\u002fEyebrow\",\"Makeup\\u002fAccessories\\u002fEyelash Curlers\",\"Tools & Brushes\\u002fBeauty Tools\\u002fEyelash Curlers\",\"Makeup\\u002fEye\\u002fEyeliner\",\"Makeup\\u002fEye\\u002fEyeshadow\",\"Makeup\\u002fBrushes & Applicators\\u002fFace Brushes\",\"Tools & Brushes\\u002fBrushes & Applicators\\u002fFace Brushes\",\"Skincare\\u002fMasks\\u002fFace Masks\",\"Skincare\\u002fMoisturizers\\u002fFace Oils\",\"Makeup\\u002fFace\\u002fFace Primer\",\"Skincare\\u002fTreatments\\u002fFace Serums\",\"Makeup\\u002fFace\\u002fFace Sets\",\"Skincare\\u002fSunscreen\\u002fFace Sunscreen\",\"Men\\u002fSkincare\\u002fFace Wash\",\"Skincare\\u002fCleansers\\u002fFace Wash & Cleansers\",\"Skincare\\u002fCleansers\\u002fFace Wipes\",\"Tools & Brushes\\u002fBrushes & Applicators\\u002fFacial Cleansing Brushes\",\"Skincare\\u002fHigh Tech Tools\\u002fFacial Cleansing Brushes\",\"Skincare\\u002fTreatments\\u002fFacial Peels\",\"Skincare\\u002fWellness\\u002fFacial Rollers\",\"Makeup\\u002fEye\\u002fFalse Eyelashes\",\"Bath & Body\\u002fSelf Tanners\\u002fFor Body\",\"Skincare\\u002fSelf Tanners\\u002fFor Body\",\"Bath & Body\\u002fSelf Tanners\\u002fFor Face\",\"Skincare\\u002fSelf Tanners\\u002fFor Face\",\"Makeup\\u002fFace\\u002fFoundation\",\"Hair\\u002fTools\\u002fHair Dryers\",\"Hair\\u002fHair Styling & Treatments\\u002fHair Dye & Root Touch-Ups\",\"Hair\\u002fHair Styling & Treatments\\u002fHair Masks\",\"Hair\\u002fHair Styling & Treatments\\u002fHair Oil\",\"Hair\\u002fHair Styling & Treatments\\u002fHair Primers\",\"Skincare\\u002fHigh Tech Tools\\u002fHair Removal\",\"Hair\\u002fHair Styling & Treatments\\u002fHair Spray\",\"Tools & Brushes\\u002fHair Tools\\u002fHair Straighteners & Flat Irons\",\"Hair\\u002fTools\\u002fHair Straighteners & Flat Irons\",\"Hair\\u002fHair Styling & Treatments\\u002fHair Styling Products\",\"Hair\\u002fHair Styling & Treatments\\u002fHair Supplements\",\"Hair\\u002fHair Styling & Treatments\\u002fHair Thinning & Hair Loss\",\"Bath & Body\\u002fBody Moisturizers\\u002fHand Cream & Foot Cream\",\"Bath & Body\\u002fBody Care\\u002fHand Sanitizer & Hand Soap\",\"Makeup\\u002fFace\\u002fHighlighter\",\"Skincare\\u002fWellness\\u002fHolistic Wellness\",\"Bath & Body\\u002fBody Care\\u002fIntimate Care\",\"Hair\\u002fHair Styling & Treatments\\u002fLeave-In Conditioner\",\"Makeup\\u002fLip\\u002fLip Balm & Treatment\",\"Makeup\\u002fBrushes & Applicators\\u002fLip Brushes\",\"Makeup\\u002fLip\\u002fLip Gloss\",\"Makeup\\u002fLip\\u002fLip Liner\",\"Makeup\\u002fLip\\u002fLip Plumper\",\"Makeup\\u002fLip\\u002fLip Sets\",\"Makeup\\u002fLip\\u002fLip Stain\",\"Makeup\\u002fLip\\u002fLipstick\",\"Makeup\\u002fLip\\u002fLiquid Lipstick\",\"Tools & Brushes\\u002fBeauty Accessories\\u002fMakeup & Travel Cases\",\"Makeup\\u002fAccessories\\u002fMakeup Bags & Travel Cases\",\"Makeup\\u002fAccessories\\u002fMakeup Removers\",\"Skincare\\u002fCleansers\\u002fMakeup Removers\",\"Tools & Brushes\\u002fBeauty Tools\\u002fManicure & Pedicure Tools\",\"Makeup\\u002fEye\\u002fMascara\",\"Skincare\\u002fMoisturizers\\u002fMists & Essences\",\"Men\\u002fSkincare\\u002fMoisturizer & Treatments\",\"Skincare\\u002fMoisturizers\\u002fMoisturizers\",\"Skincare\\u002fMoisturizers\\u002fNight Creams\",\"Fragrance\\u002fWomen\\u002fPerfume\",\"Fragrance\\u002fValue & Gift Sets\\u002fPerfume Gift Sets\",\"Fragrance\\u002fWomen\\u002fRollerballs & Travel Size\",\"Hair\\u002fHair Styling & Treatments\\u002fScalp Treatments\",\"Bath & Body\\u002fBath & Shower\\u002fScrub & Exfoliants\",\"Makeup\\u002fFace\\u002fSetting Spray & Powder\",\"Hair\\u002fShampoo & Conditioner\\u002fShampoo\",\"Men\\u002fHair\\u002fShampoo & Conditioner\",\"Tools & Brushes\\u002fBeauty Tools\\u002fSharpeners\",\"Men\\u002fShaving\\u002fShaving\",\"Skincare\\u002fMasks\\u002fSheet Masks\",\"Men\\u002fValue & Gift Sets\\u002fSkincare Sets\",\"Makeup\\u002fBrushes & Applicators\\u002fSponges & Applicators\",\"Tools & Brushes\\u002fBrushes & Applicators\\u002fSponges & Applicators\",\"Men\\u002fSkincare\\u002fSunscreen\",\"Tools & Brushes\\u002fBeauty Tools\\u002fTeeth Whitening\",\"Skincare\\u002fHigh Tech Tools\\u002fTeeth Whitening\",\"Makeup\\u002fFace\\u002fTinted Moisturizer\",\"Skincare\\u002fCleansers\\u002fToners\",\"Makeup\\u002fAccessories\\u002fTweezers & Eyebrow Tools\",\"Tools & Brushes\\u002fBeauty Tools\\u002fTweezers & Eyebrow Tools\",\"Makeup\\u002fEye\\u002fUnder-Eye Concealer\",\"Makeup\\u002fAccessories\",\"Bath & Body\\u002fBath & Shower\",\"Tools & Brushes\\u002fBeauty Accessories\",\"Tools & Brushes\\u002fBeauty Tools\",\"Bath & Body\\u002fBody Care\",\"Bath & Body\\u002fBody Moisturizers\",\"Makeup\\u002fBrushes & Applicators\",\"Tools & Brushes\\u002fBrushes & Applicators\",\"Fragrance\\u002fCandles & Home Scents\",\"Makeup\\u002fCheek\",\"Skincare\\u002fCleansers\",\"Makeup\\u002fEye\",\"Skincare\\u002fEye Care\",\"Makeup\\u002fFace\",\"Men\\u002fHair\",\"Hair\\u002fHair Styling & Treatments\",\"Tools & Brushes\\u002fHair Tools\",\"Skincare\\u002fHigh Tech Tools\",\"Makeup\\u002fLip\",\"Skincare\\u002fMasks\",\"Fragrance\\u002fMen\",\"Skincare\\u002fMoisturizers\",\"Men\\u002fOther Needs\",\"Bath & Body\\u002fSelf Tanners\",\"Skincare\\u002fSelf Tanners\",\"Hair\\u002fShampoo & Conditioner\",\"Men\\u002fShaving\",\"Hair\\u002fShop by Concern\",\"Skincare\\u002fShop by Concern\",\"Men\\u002fSkincare\",\"Bath & Body\\u002fSunscreen\",\"Skincare\\u002fSunscreen\",\"Hair\\u002fTools\",\"Skincare\\u002fTreatments\",\"Fragrance\\u002fValue & Gift Sets\",\"Men\\u002fValue & Gift Sets\",\"Skincare\\u002fWellness\",\"Fragrance\\u002fWomen\",\"Bath & Body\",\"Fragrance\",\"Hair\",\"Makeup\",\"Men\",\"Skincare\",\"Tools & Brushes\"],\"labels\":[\"Accessories\",\"Accessories\",\"Aftershave\",\"Anti-Aging\",\"Anti-Aging\",\"BB & CC Cream\",\"BB & CC Creams\",\"Bath Soaks & Bubble Bath\",\"Beauty Supplements\",\"Blemish & Acne Treatments\",\"Blotting Papers\",\"Blotting Papers\",\"Blush\",\"Body Lotions & Body Oils\",\"Body Mist & Hair Mist\",\"Body Products\",\"Body Sunscreen\",\"Body Sunscreen\",\"Body Wash & Shower Gel\",\"Bronzer\",\"Brush Cleaners\",\"Brush Sets\",\"Brush Sets\",\"Brushes & Combs\",\"Brushes & Combs\",\"Candles\",\"Cellulite & Stretch Marks\",\"Cheek Palettes\",\"Cologne\",\"Cologne Gift Sets\",\"Color Care\",\"Color Correct\",\"Concealer\",\"Conditioner\",\"Contour\",\"Curling Irons\",\"Damaged Hair\",\"Decollete & Neck Creams\",\"Deodorant & Antiperspirant\",\"Diffusers\",\"Dry Shampoo\",\"Exfoliators\",\"Eye Brushes\",\"Eye Brushes\",\"Eye Cream\",\"Eye Creams & Treatments\",\"Eye Masks\",\"Eye Palettes\",\"Eye Primer\",\"Eye Sets\",\"Eyebrow\",\"Eyelash Curlers\",\"Eyelash Curlers\",\"Eyeliner\",\"Eyeshadow\",\"Face Brushes\",\"Face Brushes\",\"Face Masks\",\"Face Oils\",\"Face Primer\",\"Face Serums\",\"Face Sets\",\"Face Sunscreen\",\"Face Wash\",\"Face Wash & Cleansers\",\"Face Wipes\",\"Facial Cleansing Brushes\",\"Facial Cleansing Brushes\",\"Facial Peels\",\"Facial Rollers\",\"False Eyelashes\",\"For Body\",\"For Body\",\"For Face\",\"For Face\",\"Foundation\",\"Hair Dryers\",\"Hair Dye & Root Touch-Ups\",\"Hair Masks\",\"Hair Oil\",\"Hair Primers\",\"Hair Removal\",\"Hair Spray\",\"Hair Straighteners & Flat Irons\",\"Hair Straighteners & Flat Irons\",\"Hair Styling Products\",\"Hair Supplements\",\"Hair Thinning & Hair Loss\",\"Hand Cream & Foot Cream\",\"Hand Sanitizer & Hand Soap\",\"Highlighter\",\"Holistic Wellness\",\"Intimate Care\",\"Leave-In Conditioner\",\"Lip Balm & Treatment\",\"Lip Brushes\",\"Lip Gloss\",\"Lip Liner\",\"Lip Plumper\",\"Lip Sets\",\"Lip Stain\",\"Lipstick\",\"Liquid Lipstick\",\"Makeup & Travel Cases\",\"Makeup Bags & Travel Cases\",\"Makeup Removers\",\"Makeup Removers\",\"Manicure & Pedicure Tools\",\"Mascara\",\"Mists & Essences\",\"Moisturizer & Treatments\",\"Moisturizers\",\"Night Creams\",\"Perfume\",\"Perfume Gift Sets\",\"Rollerballs & Travel Size\",\"Scalp Treatments\",\"Scrub & Exfoliants\",\"Setting Spray & Powder\",\"Shampoo\",\"Shampoo & Conditioner\",\"Sharpeners\",\"Shaving\",\"Sheet Masks\",\"Skincare Sets\",\"Sponges & Applicators\",\"Sponges & Applicators\",\"Sunscreen\",\"Teeth Whitening\",\"Teeth Whitening\",\"Tinted Moisturizer\",\"Toners\",\"Tweezers & Eyebrow Tools\",\"Tweezers & Eyebrow Tools\",\"Under-Eye Concealer\",\"Accessories\",\"Bath & Shower\",\"Beauty Accessories\",\"Beauty Tools\",\"Body Care\",\"Body Moisturizers\",\"Brushes & Applicators\",\"Brushes & Applicators\",\"Candles & Home Scents\",\"Cheek\",\"Cleansers\",\"Eye\",\"Eye Care\",\"Face\",\"Hair\",\"Hair Styling & Treatments\",\"Hair Tools\",\"High Tech Tools\",\"Lip\",\"Masks\",\"Men\",\"Moisturizers\",\"Other Needs\",\"Self Tanners\",\"Self Tanners\",\"Shampoo & Conditioner\",\"Shaving\",\"Shop by Concern\",\"Shop by Concern\",\"Skincare\",\"Sunscreen\",\"Sunscreen\",\"Tools\",\"Treatments\",\"Value & Gift Sets\",\"Value & Gift Sets\",\"Wellness\",\"Women\",\"Bath & Body\",\"Fragrance\",\"Hair\",\"Makeup\",\"Men\",\"Skincare\",\"Tools & Brushes\"],\"name\":\"\",\"parents\":[\"Tools & Brushes\\u002fHair Tools\",\"Hair\\u002fTools\",\"Men\\u002fShaving\",\"Skincare\\u002fHigh Tech Tools\",\"Skincare\\u002fShop by Concern\",\"Makeup\\u002fFace\",\"Skincare\\u002fMoisturizers\",\"Bath & Body\\u002fBath & Shower\",\"Skincare\\u002fWellness\",\"Skincare\\u002fTreatments\",\"Makeup\\u002fAccessories\",\"Skincare\\u002fCleansers\",\"Makeup\\u002fCheek\",\"Bath & Body\\u002fBody Moisturizers\",\"Fragrance\\u002fWomen\",\"Men\\u002fOther Needs\",\"Bath & Body\\u002fSunscreen\",\"Skincare\\u002fSunscreen\",\"Bath & Body\\u002fBath & Shower\",\"Makeup\\u002fCheek\",\"Makeup\\u002fBrushes & Applicators\",\"Makeup\\u002fBrushes & Applicators\",\"Tools & Brushes\\u002fBrushes & Applicators\",\"Tools & Brushes\\u002fHair Tools\",\"Hair\\u002fTools\",\"Fragrance\\u002fCandles & Home Scents\",\"Bath & Body\\u002fBody Care\",\"Makeup\\u002fCheek\",\"Fragrance\\u002fMen\",\"Fragrance\\u002fValue & Gift Sets\",\"Hair\\u002fShop by Concern\",\"Makeup\\u002fFace\",\"Makeup\\u002fFace\",\"Hair\\u002fShampoo & Conditioner\",\"Makeup\\u002fFace\",\"Hair\\u002fTools\",\"Hair\\u002fShop by Concern\",\"Skincare\\u002fMoisturizers\",\"Bath & Body\\u002fBody Care\",\"Fragrance\\u002fCandles & Home Scents\",\"Hair\\u002fHair Styling & Treatments\",\"Skincare\\u002fCleansers\",\"Makeup\\u002fBrushes & Applicators\",\"Tools & Brushes\\u002fBrushes & Applicators\",\"Men\\u002fSkincare\",\"Skincare\\u002fEye Care\",\"Skincare\\u002fEye Care\",\"Makeup\\u002fEye\",\"Makeup\\u002fEye\",\"Makeup\\u002fEye\",\"Makeup\\u002fEye\",\"Makeup\\u002fAccessories\",\"Tools & Brushes\\u002fBeauty Tools\",\"Makeup\\u002fEye\",\"Makeup\\u002fEye\",\"Makeup\\u002fBrushes & Applicators\",\"Tools & Brushes\\u002fBrushes & Applicators\",\"Skincare\\u002fMasks\",\"Skincare\\u002fMoisturizers\",\"Makeup\\u002fFace\",\"Skincare\\u002fTreatments\",\"Makeup\\u002fFace\",\"Skincare\\u002fSunscreen\",\"Men\\u002fSkincare\",\"Skincare\\u002fCleansers\",\"Skincare\\u002fCleansers\",\"Tools & Brushes\\u002fBrushes & Applicators\",\"Skincare\\u002fHigh Tech Tools\",\"Skincare\\u002fTreatments\",\"Skincare\\u002fWellness\",\"Makeup\\u002fEye\",\"Bath & Body\\u002fSelf Tanners\",\"Skincare\\u002fSelf Tanners\",\"Bath & Body\\u002fSelf Tanners\",\"Skincare\\u002fSelf Tanners\",\"Makeup\\u002fFace\",\"Hair\\u002fTools\",\"Hair\\u002fHair Styling & Treatments\",\"Hair\\u002fHair Styling & Treatments\",\"Hair\\u002fHair Styling & Treatments\",\"Hair\\u002fHair Styling & Treatments\",\"Skincare\\u002fHigh Tech Tools\",\"Hair\\u002fHair Styling & Treatments\",\"Tools & Brushes\\u002fHair Tools\",\"Hair\\u002fTools\",\"Hair\\u002fHair Styling & Treatments\",\"Hair\\u002fHair Styling & Treatments\",\"Hair\\u002fHair Styling & Treatments\",\"Bath & Body\\u002fBody Moisturizers\",\"Bath & Body\\u002fBody Care\",\"Makeup\\u002fFace\",\"Skincare\\u002fWellness\",\"Bath & Body\\u002fBody Care\",\"Hair\\u002fHair Styling & Treatments\",\"Makeup\\u002fLip\",\"Makeup\\u002fBrushes & Applicators\",\"Makeup\\u002fLip\",\"Makeup\\u002fLip\",\"Makeup\\u002fLip\",\"Makeup\\u002fLip\",\"Makeup\\u002fLip\",\"Makeup\\u002fLip\",\"Makeup\\u002fLip\",\"Tools & Brushes\\u002fBeauty Accessories\",\"Makeup\\u002fAccessories\",\"Makeup\\u002fAccessories\",\"Skincare\\u002fCleansers\",\"Tools & Brushes\\u002fBeauty Tools\",\"Makeup\\u002fEye\",\"Skincare\\u002fMoisturizers\",\"Men\\u002fSkincare\",\"Skincare\\u002fMoisturizers\",\"Skincare\\u002fMoisturizers\",\"Fragrance\\u002fWomen\",\"Fragrance\\u002fValue & Gift Sets\",\"Fragrance\\u002fWomen\",\"Hair\\u002fHair Styling & Treatments\",\"Bath & Body\\u002fBath & Shower\",\"Makeup\\u002fFace\",\"Hair\\u002fShampoo & Conditioner\",\"Men\\u002fHair\",\"Tools & Brushes\\u002fBeauty Tools\",\"Men\\u002fShaving\",\"Skincare\\u002fMasks\",\"Men\\u002fValue & Gift Sets\",\"Makeup\\u002fBrushes & Applicators\",\"Tools & Brushes\\u002fBrushes & Applicators\",\"Men\\u002fSkincare\",\"Tools & Brushes\\u002fBeauty Tools\",\"Skincare\\u002fHigh Tech Tools\",\"Makeup\\u002fFace\",\"Skincare\\u002fCleansers\",\"Makeup\\u002fAccessories\",\"Tools & Brushes\\u002fBeauty Tools\",\"Makeup\\u002fEye\",\"Makeup\",\"Bath & Body\",\"Tools & Brushes\",\"Tools & Brushes\",\"Bath & Body\",\"Bath & Body\",\"Makeup\",\"Tools & Brushes\",\"Fragrance\",\"Makeup\",\"Skincare\",\"Makeup\",\"Skincare\",\"Makeup\",\"Men\",\"Hair\",\"Tools & Brushes\",\"Skincare\",\"Makeup\",\"Skincare\",\"Fragrance\",\"Skincare\",\"Men\",\"Bath & Body\",\"Skincare\",\"Hair\",\"Men\",\"Hair\",\"Skincare\",\"Men\",\"Bath & Body\",\"Skincare\",\"Hair\",\"Skincare\",\"Fragrance\",\"Men\",\"Skincare\",\"Fragrance\",\"\",\"\",\"\",\"\",\"\",\"\",\"\"],\"values\":[2,30,5,49,1,10,4,7,44,37,3,4,92,197,20,5,1,10,51,58,13,13,1,7,45,193,8,15,135,12,3,10,84,193,23,27,1,10,25,65,41,41,53,1,6,172,14,135,19,18,132,6,3,119,66,118,3,134,66,118,379,18,95,9,217,6,3,13,50,25,52,4,34,1,18,157,26,5,120,65,43,10,28,2,25,255,19,2,22,7,96,10,28,59,86,3,69,39,15,15,6,161,19,5,5,26,10,1,166,67,15,386,17,568,136,287,120,26,125,238,3,6,10,32,4,28,5,2,2,5,18,80,4,10,3,44,84,5,22,68,219,228,13,258,165,358,710,186,659,3,757,11,77,410,166,135,550,5,5,52,431,15,4,1,32,1,105,153,466,148,4,79,875,377,1416,1345,2216,59,2040,51],\"type\":\"treemap\"}],                        {\"template\":{\"data\":{\"histogram2dcontour\":[{\"type\":\"histogram2dcontour\",\"colorbar\":{\"outlinewidth\":0,\"ticks\":\"\"},\"colorscale\":[[0.0,\"#0d0887\"],[0.1111111111111111,\"#46039f\"],[0.2222222222222222,\"#7201a8\"],[0.3333333333333333,\"#9c179e\"],[0.4444444444444444,\"#bd3786\"],[0.5555555555555556,\"#d8576b\"],[0.6666666666666666,\"#ed7953\"],[0.7777777777777778,\"#fb9f3a\"],[0.8888888888888888,\"#fdca26\"],[1.0,\"#f0f921\"]]}],\"choropleth\":[{\"type\":\"choropleth\",\"colorbar\":{\"outlinewidth\":0,\"ticks\":\"\"}}],\"histogram2d\":[{\"type\":\"histogram2d\",\"colorbar\":{\"outlinewidth\":0,\"ticks\":\"\"},\"colorscale\":[[0.0,\"#0d0887\"],[0.1111111111111111,\"#46039f\"],[0.2222222222222222,\"#7201a8\"],[0.3333333333333333,\"#9c179e\"],[0.4444444444444444,\"#bd3786\"],[0.5555555555555556,\"#d8576b\"],[0.6666666666666666,\"#ed7953\"],[0.7777777777777778,\"#fb9f3a\"],[0.8888888888888888,\"#fdca26\"],[1.0,\"#f0f921\"]]}],\"heatmap\":[{\"type\":\"heatmap\",\"colorbar\":{\"outlinewidth\":0,\"ticks\":\"\"},\"colorscale\":[[0.0,\"#0d0887\"],[0.1111111111111111,\"#46039f\"],[0.2222222222222222,\"#7201a8\"],[0.3333333333333333,\"#9c179e\"],[0.4444444444444444,\"#bd3786\"],[0.5555555555555556,\"#d8576b\"],[0.6666666666666666,\"#ed7953\"],[0.7777777777777778,\"#fb9f3a\"],[0.8888888888888888,\"#fdca26\"],[1.0,\"#f0f921\"]]}],\"heatmapgl\":[{\"type\":\"heatmapgl\",\"colorbar\":{\"outlinewidth\":0,\"ticks\":\"\"},\"colorscale\":[[0.0,\"#0d0887\"],[0.1111111111111111,\"#46039f\"],[0.2222222222222222,\"#7201a8\"],[0.3333333333333333,\"#9c179e\"],[0.4444444444444444,\"#bd3786\"],[0.5555555555555556,\"#d8576b\"],[0.6666666666666666,\"#ed7953\"],[0.7777777777777778,\"#fb9f3a\"],[0.8888888888888888,\"#fdca26\"],[1.0,\"#f0f921\"]]}],\"contourcarpet\":[{\"type\":\"contourcarpet\",\"colorbar\":{\"outlinewidth\":0,\"ticks\":\"\"}}],\"contour\":[{\"type\":\"contour\",\"colorbar\":{\"outlinewidth\":0,\"ticks\":\"\"},\"colorscale\":[[0.0,\"#0d0887\"],[0.1111111111111111,\"#46039f\"],[0.2222222222222222,\"#7201a8\"],[0.3333333333333333,\"#9c179e\"],[0.4444444444444444,\"#bd3786\"],[0.5555555555555556,\"#d8576b\"],[0.6666666666666666,\"#ed7953\"],[0.7777777777777778,\"#fb9f3a\"],[0.8888888888888888,\"#fdca26\"],[1.0,\"#f0f921\"]]}],\"surface\":[{\"type\":\"surface\",\"colorbar\":{\"outlinewidth\":0,\"ticks\":\"\"},\"colorscale\":[[0.0,\"#0d0887\"],[0.1111111111111111,\"#46039f\"],[0.2222222222222222,\"#7201a8\"],[0.3333333333333333,\"#9c179e\"],[0.4444444444444444,\"#bd3786\"],[0.5555555555555556,\"#d8576b\"],[0.6666666666666666,\"#ed7953\"],[0.7777777777777778,\"#fb9f3a\"],[0.8888888888888888,\"#fdca26\"],[1.0,\"#f0f921\"]]}],\"mesh3d\":[{\"type\":\"mesh3d\",\"colorbar\":{\"outlinewidth\":0,\"ticks\":\"\"}}],\"scatter\":[{\"fillpattern\":{\"fillmode\":\"overlay\",\"size\":10,\"solidity\":0.2},\"type\":\"scatter\"}],\"parcoords\":[{\"type\":\"parcoords\",\"line\":{\"colorbar\":{\"outlinewidth\":0,\"ticks\":\"\"}}}],\"scatterpolargl\":[{\"type\":\"scatterpolargl\",\"marker\":{\"colorbar\":{\"outlinewidth\":0,\"ticks\":\"\"}}}],\"bar\":[{\"error_x\":{\"color\":\"#2a3f5f\"},\"error_y\":{\"color\":\"#2a3f5f\"},\"marker\":{\"line\":{\"color\":\"#E5ECF6\",\"width\":0.5},\"pattern\":{\"fillmode\":\"overlay\",\"size\":10,\"solidity\":0.2}},\"type\":\"bar\"}],\"scattergeo\":[{\"type\":\"scattergeo\",\"marker\":{\"colorbar\":{\"outlinewidth\":0,\"ticks\":\"\"}}}],\"scatterpolar\":[{\"type\":\"scatterpolar\",\"marker\":{\"colorbar\":{\"outlinewidth\":0,\"ticks\":\"\"}}}],\"histogram\":[{\"marker\":{\"pattern\":{\"fillmode\":\"overlay\",\"size\":10,\"solidity\":0.2}},\"type\":\"histogram\"}],\"scattergl\":[{\"type\":\"scattergl\",\"marker\":{\"colorbar\":{\"outlinewidth\":0,\"ticks\":\"\"}}}],\"scatter3d\":[{\"type\":\"scatter3d\",\"line\":{\"colorbar\":{\"outlinewidth\":0,\"ticks\":\"\"}},\"marker\":{\"colorbar\":{\"outlinewidth\":0,\"ticks\":\"\"}}}],\"scattermapbox\":[{\"type\":\"scattermapbox\",\"marker\":{\"colorbar\":{\"outlinewidth\":0,\"ticks\":\"\"}}}],\"scatterternary\":[{\"type\":\"scatterternary\",\"marker\":{\"colorbar\":{\"outlinewidth\":0,\"ticks\":\"\"}}}],\"scattercarpet\":[{\"type\":\"scattercarpet\",\"marker\":{\"colorbar\":{\"outlinewidth\":0,\"ticks\":\"\"}}}],\"carpet\":[{\"aaxis\":{\"endlinecolor\":\"#2a3f5f\",\"gridcolor\":\"white\",\"linecolor\":\"white\",\"minorgridcolor\":\"white\",\"startlinecolor\":\"#2a3f5f\"},\"baxis\":{\"endlinecolor\":\"#2a3f5f\",\"gridcolor\":\"white\",\"linecolor\":\"white\",\"minorgridcolor\":\"white\",\"startlinecolor\":\"#2a3f5f\"},\"type\":\"carpet\"}],\"table\":[{\"cells\":{\"fill\":{\"color\":\"#EBF0F8\"},\"line\":{\"color\":\"white\"}},\"header\":{\"fill\":{\"color\":\"#C8D4E3\"},\"line\":{\"color\":\"white\"}},\"type\":\"table\"}],\"barpolar\":[{\"marker\":{\"line\":{\"color\":\"#E5ECF6\",\"width\":0.5},\"pattern\":{\"fillmode\":\"overlay\",\"size\":10,\"solidity\":0.2}},\"type\":\"barpolar\"}],\"pie\":[{\"automargin\":true,\"type\":\"pie\"}]},\"layout\":{\"autotypenumbers\":\"strict\",\"colorway\":[\"#636efa\",\"#EF553B\",\"#00cc96\",\"#ab63fa\",\"#FFA15A\",\"#19d3f3\",\"#FF6692\",\"#B6E880\",\"#FF97FF\",\"#FECB52\"],\"font\":{\"color\":\"#2a3f5f\"},\"hovermode\":\"closest\",\"hoverlabel\":{\"align\":\"left\"},\"paper_bgcolor\":\"white\",\"plot_bgcolor\":\"#E5ECF6\",\"polar\":{\"bgcolor\":\"#E5ECF6\",\"angularaxis\":{\"gridcolor\":\"white\",\"linecolor\":\"white\",\"ticks\":\"\"},\"radialaxis\":{\"gridcolor\":\"white\",\"linecolor\":\"white\",\"ticks\":\"\"}},\"ternary\":{\"bgcolor\":\"#E5ECF6\",\"aaxis\":{\"gridcolor\":\"white\",\"linecolor\":\"white\",\"ticks\":\"\"},\"baxis\":{\"gridcolor\":\"white\",\"linecolor\":\"white\",\"ticks\":\"\"},\"caxis\":{\"gridcolor\":\"white\",\"linecolor\":\"white\",\"ticks\":\"\"}},\"coloraxis\":{\"colorbar\":{\"outlinewidth\":0,\"ticks\":\"\"}},\"colorscale\":{\"sequential\":[[0.0,\"#0d0887\"],[0.1111111111111111,\"#46039f\"],[0.2222222222222222,\"#7201a8\"],[0.3333333333333333,\"#9c179e\"],[0.4444444444444444,\"#bd3786\"],[0.5555555555555556,\"#d8576b\"],[0.6666666666666666,\"#ed7953\"],[0.7777777777777778,\"#fb9f3a\"],[0.8888888888888888,\"#fdca26\"],[1.0,\"#f0f921\"]],\"sequentialminus\":[[0.0,\"#0d0887\"],[0.1111111111111111,\"#46039f\"],[0.2222222222222222,\"#7201a8\"],[0.3333333333333333,\"#9c179e\"],[0.4444444444444444,\"#bd3786\"],[0.5555555555555556,\"#d8576b\"],[0.6666666666666666,\"#ed7953\"],[0.7777777777777778,\"#fb9f3a\"],[0.8888888888888888,\"#fdca26\"],[1.0,\"#f0f921\"]],\"diverging\":[[0,\"#8e0152\"],[0.1,\"#c51b7d\"],[0.2,\"#de77ae\"],[0.3,\"#f1b6da\"],[0.4,\"#fde0ef\"],[0.5,\"#f7f7f7\"],[0.6,\"#e6f5d0\"],[0.7,\"#b8e186\"],[0.8,\"#7fbc41\"],[0.9,\"#4d9221\"],[1,\"#276419\"]]},\"xaxis\":{\"gridcolor\":\"white\",\"linecolor\":\"white\",\"ticks\":\"\",\"title\":{\"standoff\":15},\"zerolinecolor\":\"white\",\"automargin\":true,\"zerolinewidth\":2},\"yaxis\":{\"gridcolor\":\"white\",\"linecolor\":\"white\",\"ticks\":\"\",\"title\":{\"standoff\":15},\"zerolinecolor\":\"white\",\"automargin\":true,\"zerolinewidth\":2},\"scene\":{\"xaxis\":{\"backgroundcolor\":\"#E5ECF6\",\"gridcolor\":\"white\",\"linecolor\":\"white\",\"showbackground\":true,\"ticks\":\"\",\"zerolinecolor\":\"white\",\"gridwidth\":2},\"yaxis\":{\"backgroundcolor\":\"#E5ECF6\",\"gridcolor\":\"white\",\"linecolor\":\"white\",\"showbackground\":true,\"ticks\":\"\",\"zerolinecolor\":\"white\",\"gridwidth\":2},\"zaxis\":{\"backgroundcolor\":\"#E5ECF6\",\"gridcolor\":\"white\",\"linecolor\":\"white\",\"showbackground\":true,\"ticks\":\"\",\"zerolinecolor\":\"white\",\"gridwidth\":2}},\"shapedefaults\":{\"line\":{\"color\":\"#2a3f5f\"}},\"annotationdefaults\":{\"arrowcolor\":\"#2a3f5f\",\"arrowhead\":0,\"arrowwidth\":1},\"geo\":{\"bgcolor\":\"white\",\"landcolor\":\"#E5ECF6\",\"subunitcolor\":\"white\",\"showland\":true,\"showlakes\":true,\"lakecolor\":\"white\"},\"title\":{\"x\":0.05},\"mapbox\":{\"style\":\"light\"}}},\"legend\":{\"tracegroupgap\":0},\"title\":{\"text\":\"Tree Map of Sephora Product Categories\"},\"margin\":{\"t\":50,\"l\":25,\"r\":25,\"b\":25}},                        {\"responsive\": true}                    ).then(function(){\n",
       "                            \n",
       "var gd = document.getElementById('2f5a48fd-4400-4959-852e-74eba5c4a315');\n",
       "var x = new MutationObserver(function (mutations, observer) {{\n",
       "        var display = window.getComputedStyle(gd).display;\n",
       "        if (!display || display === 'none') {{\n",
       "            console.log([gd, 'removed!']);\n",
       "            Plotly.purge(gd);\n",
       "            observer.disconnect();\n",
       "        }}\n",
       "}});\n",
       "\n",
       "// Listen for the removal of the full notebook cells\n",
       "var notebookContainer = gd.closest('#notebook-container');\n",
       "if (notebookContainer) {{\n",
       "    x.observe(notebookContainer, {childList: true});\n",
       "}}\n",
       "\n",
       "// Listen for the clearing of the current output cell\n",
       "var outputEl = gd.closest('.output');\n",
       "if (outputEl) {{\n",
       "    x.observe(outputEl, {childList: true});\n",
       "}}\n",
       "\n",
       "                        })                };                });            </script>        </div>"
      ]
     },
     "metadata": {},
     "output_type": "display_data"
    }
   ],
   "source": [
    "products['size'] = 1\n",
    "\n",
    "# Filtrar y seleccionar las columnas necesarias\n",
    "grafic = products[['primary_category', 'secondary_category', 'tertiary_category', 'size']]\n",
    "\n",
    "# Asegúrate de que no haya valores nulos en las categorías\n",
    "grafic.dropna(subset=['primary_category', 'secondary_category', 'tertiary_category'], inplace=True)\n",
    "\n",
    "# Crear el gráfico de treemap usando Plotly\n",
    "fig = px.treemap(grafic, path=['primary_category', 'secondary_category', 'tertiary_category'], values='size', title='Tree Map of Sephora Product Categories')\n",
    "fig.update_layout(margin=dict(t=50, l=25, r=25, b=25))\n",
    "\n",
    "fig.show()"
   ]
  },
  {
   "cell_type": "code",
   "execution_count": null,
   "id": "5dc3d12c-a08b-4dde-aa8c-1c90065479f1",
   "metadata": {},
   "outputs": [],
   "source": []
  }
 ],
 "metadata": {
  "kernelspec": {
   "display_name": "Python 3 (ipykernel)",
   "language": "python",
   "name": "python3"
  },
  "language_info": {
   "codemirror_mode": {
    "name": "ipython",
    "version": 3
   },
   "file_extension": ".py",
   "mimetype": "text/x-python",
   "name": "python",
   "nbconvert_exporter": "python",
   "pygments_lexer": "ipython3",
   "version": "3.11.8"
  }
 },
 "nbformat": 4,
 "nbformat_minor": 5
}
